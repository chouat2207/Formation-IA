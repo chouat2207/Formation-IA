{
  "nbformat": 4,
  "nbformat_minor": 0,
  "metadata": {
    "colab": {
      "provenance": [],
      "include_colab_link": true
    },
    "kernelspec": {
      "name": "python3",
      "display_name": "Python 3"
    },
    "language_info": {
      "name": "python"
    }
  },
  "cells": [
    {
      "cell_type": "markdown",
      "metadata": {
        "id": "view-in-github",
        "colab_type": "text"
      },
      "source": [
        "<a href=\"https://colab.research.google.com/github/chouat2207/Python/blob/main/Python_2_7_Sets_challenge.ipynb\" target=\"_parent\"><img src=\"https://colab.research.google.com/assets/colab-badge.svg\" alt=\"Open In Colab\"/></a>"
      ]
    },
    {
      "cell_type": "markdown",
      "source": [
        "There is another object type we haven't talked about: `set`  \n",
        "It looks like a `dictionary`, but it's not a dictionary."
      ],
      "metadata": {
        "id": "iOaZdJNUw9sA"
      }
    },
    {
      "cell_type": "code",
      "source": [
        "my_set = {\"apple\", \"kiwi\", \"pineapple\"}"
      ],
      "metadata": {
        "id": "HRsoiLZC5wmE"
      },
      "execution_count": null,
      "outputs": []
    },
    {
      "cell_type": "code",
      "source": [
        "type(my_set)"
      ],
      "metadata": {
        "colab": {
          "base_uri": "https://localhost:8080/"
        },
        "id": "-oEmyHpTwNe-",
        "outputId": "9fe9fbc8-824b-47c1-b9d4-dcedf1a2a05a"
      },
      "execution_count": null,
      "outputs": [
        {
          "output_type": "execute_result",
          "data": {
            "text/plain": [
              "set"
            ]
          },
          "metadata": {},
          "execution_count": 2
        }
      ]
    },
    {
      "cell_type": "markdown",
      "source": [
        "Question : Why isn't `my_set` an object from the `dict` class ?"
      ],
      "metadata": {
        "id": "3SQwkD7TxRLa"
      }
    },
    {
      "cell_type": "markdown",
      "source": [
        "Answer :\n",
        "\n",
        "A dictionary contains pair of key:value. A set looks like a list, but with curly brackets instead of brackets"
      ],
      "metadata": {
        "id": "IYSIv3moxkdx"
      }
    },
    {
      "cell_type": "markdown",
      "source": [
        "Another specificity from `set` object is that they cannot have two items with the same values.\n",
        "\n",
        "Execute the cells below."
      ],
      "metadata": {
        "id": "A4otkNd2x6Tk"
      }
    },
    {
      "cell_type": "code",
      "source": [
        "a_set = {\"banana\", \"lemon\", \"lemon\", \"cherry\", \"lemon\", \"strawberry\", \"lemon\" }"
      ],
      "metadata": {
        "id": "K-PLnHTuwwEz"
      },
      "execution_count": null,
      "outputs": []
    },
    {
      "cell_type": "code",
      "source": [
        "len(a_set)"
      ],
      "metadata": {
        "colab": {
          "base_uri": "https://localhost:8080/"
        },
        "id": "kids3QsSyfkM",
        "outputId": "4176ef08-f12f-4a16-8296-3963f44462a6"
      },
      "execution_count": null,
      "outputs": [
        {
          "output_type": "execute_result",
          "data": {
            "text/plain": [
              "4"
            ]
          },
          "metadata": {},
          "execution_count": 11
        }
      ]
    },
    {
      "cell_type": "markdown",
      "source": [
        "Question :  \n",
        "\n",
        "Hom many items do the sets below have ?   **the set have 4 items**\n",
        "\n",
        "To answer, you can use your knowledge or the `len()` function."
      ],
      "metadata": {
        "id": "__0F2pryyq5g"
      }
    },
    {
      "cell_type": "code",
      "source": [
        "this_set = {1, 2, 3, 1, 2, 4, 1, 4, 3, 5, 6, 8, 9, 8, 3, 7, 6, 8, 6, 8, 9}"
      ],
      "metadata": {
        "id": "UWbbfikQygNO"
      },
      "execution_count": null,
      "outputs": []
    },
    {
      "cell_type": "markdown",
      "source": [
        "Question :  \n",
        "\n",
        "Can a set contain elements with differents types ? **yes**"
      ],
      "metadata": {
        "id": "ES1OCVL9zaAK"
      }
    },
    {
      "cell_type": "code",
      "source": [
        "# try to make a set with objects with different types here:\n",
        "answer = {\"hey\", 2, True, 2.33}\n"
      ],
      "metadata": {
        "id": "fZ5t11yEzMHB"
      },
      "execution_count": null,
      "outputs": []
    },
    {
      "cell_type": "markdown",
      "source": [
        "Question :  \n",
        "\n",
        "Using the list below, there is a simple way to know the amount of unique values from this list.\n",
        "\n",
        "What is it ?"
      ],
      "metadata": {
        "id": "0LSXvAmxz5JM"
      }
    },
    {
      "cell_type": "code",
      "source": [
        "# Try to count the amount of unique values from this list, in one line of code.\n",
        "\n",
        "a_list = [1, 2, 3, 1, 2, 4, 1, 4, 3, 5, 6, 8, 9, 8, 3, 7, 6, 8, 6, 8, 9]\n",
        "set_of_liste = set(a_list)\n",
        "len(set_of_liste)\n"
      ],
      "metadata": {
        "id": "hojccL3Qz3nJ",
        "colab": {
          "base_uri": "https://localhost:8080/"
        },
        "outputId": "670bf8d9-87f4-4c01-c4f2-253e6e8b5a0c"
      },
      "execution_count": null,
      "outputs": [
        {
          "output_type": "execute_result",
          "data": {
            "text/plain": [
              "9"
            ]
          },
          "metadata": {},
          "execution_count": 15
        }
      ]
    },
    {
      "cell_type": "markdown",
      "source": [
        "There are four collection data types in the Python programming language:\n",
        "\n",
        "* `List` is a collection which is ordered and changeable. Allows duplicate members.\n",
        "* `Tuple` is a collection which is ordered and unchangeable. Allows duplicate members.\n",
        "* `Set` is a collection which is unordered, unchangeable, and unindexed. No duplicate members, but you can remove items and add new items.\n",
        "* `Dictionary` is a collection which is ordered and changeable. No duplicate members."
      ],
      "metadata": {
        "id": "GNHMN2z702c4"
      }
    },
    {
      "cell_type": "markdown",
      "source": [
        "Question :   \n",
        "Find a way to access to the first value of `this_set`"
      ],
      "metadata": {
        "id": "RBT2xWlL1-3Y"
      }
    },
    {
      "cell_type": "code",
      "source": [
        "this_set = {1, 2, 3, 1, 2, 4, 1, 4, 3, 5, 6, 8, 9, 8, 3, 7, 6, 8, 6, 8, 9}\n",
        "liste = list(this_set)\n",
        "liste[0]"
      ],
      "metadata": {
        "id": "SLr8_oFV6P2o",
        "colab": {
          "base_uri": "https://localhost:8080/"
        },
        "outputId": "17ffd4d3-406b-4d52-92e3-970ba9e47e42"
      },
      "execution_count": null,
      "outputs": [
        {
          "output_type": "execute_result",
          "data": {
            "text/plain": [
              "1"
            ]
          },
          "metadata": {},
          "execution_count": 19
        }
      ]
    },
    {
      "cell_type": "markdown",
      "source": [
        "Question :  \n",
        "Find a way to add a value that will be unique in `a_set`"
      ],
      "metadata": {
        "id": "wzNCOWt73F-i"
      }
    },
    {
      "cell_type": "code",
      "source": [
        "a_set.add(\"orange\")\n",
        "a_set"
      ],
      "metadata": {
        "colab": {
          "base_uri": "https://localhost:8080/"
        },
        "id": "ePwn6A1U13us",
        "outputId": "ef46fd75-5f07-4cb3-8f59-cf53ce7c16bd"
      },
      "execution_count": null,
      "outputs": [
        {
          "output_type": "execute_result",
          "data": {
            "text/plain": [
              "{'banana', 'cherry', 'lemon', 'orange', 'strawberry'}"
            ]
          },
          "metadata": {},
          "execution_count": 23
        }
      ]
    },
    {
      "cell_type": "markdown",
      "source": [
        "Question :  \n",
        "Now, you have to add the value from `this_set` to `a_set`:"
      ],
      "metadata": {
        "id": "ROPmLE4d3fNm"
      }
    },
    {
      "cell_type": "code",
      "source": [
        "a_set.add(liste[0])\n",
        "a_set"
      ],
      "metadata": {
        "id": "yuIZSU-p6SkW",
        "colab": {
          "base_uri": "https://localhost:8080/"
        },
        "outputId": "6a705f89-54b5-4081-eb28-0bb2ec64c6ca"
      },
      "execution_count": null,
      "outputs": [
        {
          "output_type": "execute_result",
          "data": {
            "text/plain": [
              "{1, 2, 'banana', 'cherry', 'lemon', 'orange', 'strawberry'}"
            ]
          },
          "metadata": {},
          "execution_count": 26
        }
      ]
    },
    {
      "cell_type": "markdown",
      "source": [
        "Question :    \n",
        "\n",
        "If you display a `set` object, it won't display with the same order you define it.\n",
        "\n",
        "What can you say about the order the element are display ?"
      ],
      "metadata": {
        "id": "8mjIqZuD3x7m"
      }
    },
    {
      "cell_type": "markdown",
      "source": [
        "Answer :    **The set is a unorded collection.**\n"
      ],
      "metadata": {
        "id": "vZmfsNO64Kq_"
      }
    },
    {
      "cell_type": "markdown",
      "source": [
        "Question :   \n",
        "\n",
        "Find a way to display the elements that exist in both sets."
      ],
      "metadata": {
        "id": "D8f0iGCV49Cb"
      }
    },
    {
      "cell_type": "code",
      "source": [
        "a_set = {\"banana\", \"grapes\", \"cherry\", \"pineapple\", \"kiwi\", \"strawberry\"}\n",
        "\n",
        "b_set = {\"lemon\", \"kiwi\", \"grapes\", \"blueberry\", \"watermelon\"}"
      ],
      "metadata": {
        "id": "D59WGohD3pb-"
      },
      "execution_count": null,
      "outputs": []
    },
    {
      "cell_type": "code",
      "source": [
        "a_set.intersection(b_set)"
      ],
      "metadata": {
        "colab": {
          "base_uri": "https://localhost:8080/"
        },
        "id": "0qAo4GLmmQSa",
        "outputId": "16d84d83-5f8f-41ee-c4d0-432ddbc54936"
      },
      "execution_count": null,
      "outputs": [
        {
          "output_type": "execute_result",
          "data": {
            "text/plain": [
              "{'grapes', 'kiwi'}"
            ]
          },
          "metadata": {},
          "execution_count": 29
        }
      ]
    },
    {
      "cell_type": "markdown",
      "source": [
        "There is other methods for `set` objects, that you can find [here](https://www.w3schools.com/python/python_ref_set.asp)."
      ],
      "metadata": {
        "id": "ZgWrjjPP5bQP"
      }
    }
  ]
}