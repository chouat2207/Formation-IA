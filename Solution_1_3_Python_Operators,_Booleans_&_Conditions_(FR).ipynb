{
  "nbformat": 4,
  "nbformat_minor": 0,
  "metadata": {
    "colab": {
      "provenance": [],
      "include_colab_link": true
    },
    "kernelspec": {
      "name": "python3",
      "display_name": "Python 3"
    },
    "language_info": {
      "name": "python"
    }
  },
  "cells": [
    {
      "cell_type": "markdown",
      "metadata": {
        "id": "view-in-github",
        "colab_type": "text"
      },
      "source": [
        "<a href=\"https://colab.research.google.com/github/chouat2207/Python/blob/main/Solution_1_3_Python_Operators%2C_Booleans_%26_Conditions_(FR).ipynb\" target=\"_parent\"><img src=\"https://colab.research.google.com/assets/colab-badge.svg\" alt=\"Open In Colab\"/></a>"
      ]
    },
    {
      "cell_type": "markdown",
      "source": [
        "# Solution 1 :"
      ],
      "metadata": {
        "id": "NczHKFEBdah1"
      }
    },
    {
      "cell_type": "code",
      "metadata": {
        "colab": {
          "base_uri": "https://localhost:8080/"
        },
        "id": "nNJ71HTShTnx",
        "outputId": "3039adb9-93fc-42e9-dae1-28c939a76bdb"
      },
      "source": [
        "borne_basse = int(input(\"Entrez la valeur de borne basse: \"))\n",
        "\n",
        "borne_haute = int(input(\"Entreé la valeur de borne haute: \"))\n",
        "\n",
        "x = int(input(\"Entrez la valeur à situer: \"))\n",
        "\n",
        "intermediaire = 0\n",
        "\n",
        "\"\"\"\n",
        "En cas d'erreur de bornes :\n",
        "\"\"\"\n",
        "\n",
        "# En cas de valeurs équivalentes données aux bornes:\n",
        "\n",
        "if borne_basse == borne_haute:\n",
        "  print(\"Attention, les bornes sont équivalentes\")\n",
        "\n",
        "# En cas d'inversement de valeur pour la borne basse et la borne haute:\n",
        "\n",
        "if borne_basse > borne_haute:\n",
        "  print(\"Attention, la borne haute est plus petite que la borne basse. Comme je suis gentil, je les inverse pour vous =).\")\n",
        "\n",
        "  intermediaire = borne_basse\n",
        "  borne_basse = borne_haute\n",
        "  borne_haute = intermediaire\n",
        "\n",
        "\"\"\"\n",
        "Lorsque les valeurs à rentrer sont respectées:\n",
        "\"\"\"\n",
        "\n",
        "if x < borne_basse:\n",
        "  print(f\"Vous avez rentré {x} qui est plus petit que {borne_basse} (qui est le minimum)\")\n",
        "  print(f\"Résultat : {borne_basse}\")\n",
        "elif x > borne_haute:\n",
        "  print(f\"Vous avez rentré {x} qui est plus grand que {borne_haute} (qui est le maximum)\")\n",
        "  print(f\"Résultat : {borne_haute}\")\n",
        "elif (x-borne_basse)<(borne_haute-x):\n",
        "  print(f\"Vous avez rentré {x} qui est plus proche de {borne_basse} que de {borne_haute}\")\n",
        "  print(f\"Résultat : {borne_basse}\")\n",
        "elif (x-borne_basse)==(borne_haute-x):\n",
        "  print(f\"Vous avez rentré {x} qui est à equi-distance de {borne_basse} et {borne_haute}\")\n",
        "  print(f\"entiers résultants : {borne_basse} et {borne_haute}\")\n",
        "else:\n",
        "  print(f\"Vous avez rentré {x} qui est plus proche de {borne_haute} que de {borne_basse}\")\n",
        "  print(f\"Résultat : {borne_haute}\")"
      ],
      "execution_count": null,
      "outputs": [
        {
          "output_type": "stream",
          "name": "stdout",
          "text": [
            "Entrez la valeur de borne basse: 100\n",
            "Entreé la valeur de borne haute: 50\n",
            "Entrez la valeur à situer: 10\n",
            "Attention, la borne haute est plus petite que la borne basse. Comme je suis gentil, je les inverse pour vous =).\n",
            "Vous avez rentré 10 qui est plus petit que 50 (qui est le minimum)\n",
            "Résultat : 50\n"
          ]
        }
      ]
    },
    {
      "cell_type": "markdown",
      "source": [
        "# Solution 2 :"
      ],
      "metadata": {
        "id": "F-M1sB9udc0D"
      }
    },
    {
      "cell_type": "code",
      "metadata": {
        "colab": {
          "base_uri": "https://localhost:8080/"
        },
        "id": "j6MKaIBqtjgG",
        "outputId": "7634d449-60a7-4688-df9b-23fe52e3a44f"
      },
      "source": [
        "# saisie de l'utilisateur\n",
        "borne1 = input(\"Quelle est la borne 1 ?\")\n",
        "borne2 = input(\"Quelle est la borne 2 ?\")\n",
        "entier_entre = input(\"Quel entier souhaites-tu tester ?\")\n",
        "\n",
        "# pour avoir une borne inferieure et une superieure\n",
        "borneinf = min(borne1, borne2)\n",
        "bornesup = max(borne1, borne2)\n",
        "\n",
        "if borneinf <= entier_entre <= bornesup:\n",
        "    resultat = entier_entre # je le laisse inchangé\n",
        "    explic = \"qui est dans l'intervalle\"\n",
        "elif (entier_entre < borneinf):\n",
        "    resultat = borneinf\n",
        "    explic = f\"plus petit que {borneinf}, la borne inférieure\"\n",
        "else:\n",
        "# ou elif (entier_entre > bornesup):\n",
        "    resultat = bornesup\n",
        "    explic = f\"plus grand que {bornesup}, la borne supérieure\"\n",
        "\n",
        "print(\"Borne 1 : \", borne1)\n",
        "print(\"Borne 2 : \", borne2)\n",
        "print(f\"Tu as entré {entier_entre}, \" + explic) # je joins tous mes bouts de réponse"
      ],
      "execution_count": null,
      "outputs": [
        {
          "output_type": "stream",
          "name": "stdout",
          "text": [
            "Quelle est la borne 1 ?40\n",
            "Quelle est la borne 2 ?15\n",
            "Quel entier souhaites-tu tester ?20\n",
            "Borne 1 :  40\n",
            "Borne 2 :  15\n",
            "Tu as entré 20, qui est dans l'intervalle\n"
          ]
        }
      ]
    }
  ]
}