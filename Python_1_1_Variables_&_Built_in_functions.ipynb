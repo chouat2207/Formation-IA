{
  "nbformat": 4,
  "nbformat_minor": 0,
  "metadata": {
    "colab": {
      "provenance": [],
      "include_colab_link": true
    },
    "kernelspec": {
      "name": "python3",
      "display_name": "Python 3"
    },
    "language_info": {
      "name": "python"
    }
  },
  "cells": [
    {
      "cell_type": "markdown",
      "metadata": {
        "id": "view-in-github",
        "colab_type": "text"
      },
      "source": [
        "<a href=\"https://colab.research.google.com/github/chouat2207/Python/blob/main/Python_1_1_Variables_%26_Built_in_functions.ipynb\" target=\"_parent\"><img src=\"https://colab.research.google.com/assets/colab-badge.svg\" alt=\"Open In Colab\"/></a>"
      ]
    },
    {
      "cell_type": "markdown",
      "source": [
        "# Type"
      ],
      "metadata": {
        "id": "p0IY6ccQKu9_"
      }
    },
    {
      "cell_type": "markdown",
      "source": [
        "1. Dans la cellule de code ci-dessous, quel est, pour chaque cellule, le type de chaque objet ?  \n",
        "`indice`: vous pouvez utiliser `type(x)` pour le révéler."
      ],
      "metadata": {
        "id": "chbM0tgeZpEf"
      }
    },
    {
      "cell_type": "markdown",
      "source": [
        "1.1"
      ],
      "metadata": {
        "id": "gw9bORxUJxGm"
      }
    },
    {
      "cell_type": "code",
      "execution_count": null,
      "metadata": {
        "id": "WjJmN0AxZBLw",
        "colab": {
          "base_uri": "https://localhost:8080/"
        },
        "outputId": "acf3c0ce-f219-42ae-f30e-db13a1e47b57"
      },
      "outputs": [
        {
          "output_type": "stream",
          "name": "stdout",
          "text": [
            "<class 'int'>\n"
          ]
        }
      ],
      "source": [
        "count = 5\n",
        "print(type(count))"
      ]
    },
    {
      "cell_type": "markdown",
      "source": [
        "1.2"
      ],
      "metadata": {
        "id": "3IfX8iZxJyQ2"
      }
    },
    {
      "cell_type": "code",
      "source": [
        "greeting = \"Hello World\"\n",
        "print(type(greeting))"
      ],
      "metadata": {
        "id": "latNGJ8caLkY",
        "colab": {
          "base_uri": "https://localhost:8080/"
        },
        "outputId": "3ae3d17c-224b-48f9-afca-feafd1c909a7"
      },
      "execution_count": null,
      "outputs": [
        {
          "output_type": "stream",
          "name": "stdout",
          "text": [
            "<class 'str'>\n"
          ]
        }
      ]
    },
    {
      "cell_type": "markdown",
      "source": [
        "1.3"
      ],
      "metadata": {
        "id": "-Elw3kFRJzKd"
      }
    },
    {
      "cell_type": "code",
      "source": [
        "price = 2.5\n",
        "print(type(price))"
      ],
      "metadata": {
        "id": "tf7IgsXZa15e",
        "colab": {
          "base_uri": "https://localhost:8080/"
        },
        "outputId": "faf429ef-bcfe-4bd9-df45-ab3760132890"
      },
      "execution_count": null,
      "outputs": [
        {
          "output_type": "stream",
          "name": "stdout",
          "text": [
            "<class 'float'>\n"
          ]
        }
      ]
    },
    {
      "cell_type": "markdown",
      "source": [
        "1.4"
      ],
      "metadata": {
        "id": "5CJ3Q9qfJ0xJ"
      }
    },
    {
      "cell_type": "code",
      "source": [
        "color_palette = [\"mintcream\", \"burlywood\", \"salmon\"]\n",
        "print(type(color_palette))"
      ],
      "metadata": {
        "id": "6YNM6DLHa50P",
        "colab": {
          "base_uri": "https://localhost:8080/"
        },
        "outputId": "0788f420-ad84-4927-cd81-d3a25f84370b"
      },
      "execution_count": null,
      "outputs": [
        {
          "output_type": "stream",
          "name": "stdout",
          "text": [
            "<class 'list'>\n"
          ]
        }
      ]
    },
    {
      "cell_type": "markdown",
      "source": [
        "1.5"
      ],
      "metadata": {
        "id": "E3ro5cT-J1sV"
      }
    },
    {
      "cell_type": "code",
      "source": [
        "colors = (\"mintcream\", \"burlywood\", \"salmon\")\n",
        "print(type(colors))"
      ],
      "metadata": {
        "id": "wCaEFel6a-Fd",
        "colab": {
          "base_uri": "https://localhost:8080/"
        },
        "outputId": "0cbaa4a3-a792-4240-e1e4-c2f088e27d6a"
      },
      "execution_count": null,
      "outputs": [
        {
          "output_type": "stream",
          "name": "stdout",
          "text": [
            "<class 'tuple'>\n"
          ]
        }
      ]
    },
    {
      "cell_type": "markdown",
      "source": [
        "1.6"
      ],
      "metadata": {
        "id": "eGBMyBrjJ2xe"
      }
    },
    {
      "cell_type": "code",
      "source": [
        "person_info = {\"name\": \"Jules César\", \"Job\": \"Musician\", \"age\": 55}\n",
        "print(type(person_info))"
      ],
      "metadata": {
        "id": "gO0rMS0ubLkg",
        "colab": {
          "base_uri": "https://localhost:8080/"
        },
        "outputId": "f2c5e04a-3901-476d-e650-4261180d1474"
      },
      "execution_count": null,
      "outputs": [
        {
          "output_type": "stream",
          "name": "stdout",
          "text": [
            "<class 'dict'>\n"
          ]
        }
      ]
    },
    {
      "cell_type": "markdown",
      "source": [
        "1.7"
      ],
      "metadata": {
        "id": "n2IIfrgNJ4Ln"
      }
    },
    {
      "cell_type": "code",
      "source": [
        "is_active = True\n",
        "print(type(is_active))"
      ],
      "metadata": {
        "id": "lpPCkWfWbY3N",
        "colab": {
          "base_uri": "https://localhost:8080/"
        },
        "outputId": "217a049c-0b4b-4fc1-b32b-f9eb6443cff1"
      },
      "execution_count": null,
      "outputs": [
        {
          "output_type": "stream",
          "name": "stdout",
          "text": [
            "<class 'bool'>\n"
          ]
        }
      ]
    },
    {
      "cell_type": "markdown",
      "source": [
        "2. Maintenant, vous allez devoir convertir des objets d'un certain type, en un autre type d'objet.  \n",
        "C'est parti !"
      ],
      "metadata": {
        "id": "J-YXtU1Yb2pi"
      }
    },
    {
      "cell_type": "markdown",
      "source": [
        "2.1 Convertissez count en float."
      ],
      "metadata": {
        "id": "yerUe3q7cMmR"
      }
    },
    {
      "cell_type": "code",
      "source": [
        "count = 5\n",
        "converted_count = float(count)\n",
        "print(converted_count)\n",
        "print(type(converted_count))"
      ],
      "metadata": {
        "id": "yVs2Ry3NbpEW",
        "colab": {
          "base_uri": "https://localhost:8080/"
        },
        "outputId": "4418582f-8def-4556-b869-43f62a2e26c2"
      },
      "execution_count": null,
      "outputs": [
        {
          "output_type": "stream",
          "name": "stdout",
          "text": [
            "5.0\n",
            "<class 'float'>\n"
          ]
        }
      ]
    },
    {
      "cell_type": "markdown",
      "source": [
        "2.2 Convertissez price en int"
      ],
      "metadata": {
        "id": "q0LodnjUcPyl"
      }
    },
    {
      "cell_type": "code",
      "source": [
        "price = 5.4\n",
        "converted_en_int = int(price)\n",
        "print(type(converted_en_int))"
      ],
      "metadata": {
        "id": "0Ffo568UcJBg",
        "colab": {
          "base_uri": "https://localhost:8080/"
        },
        "outputId": "aa96d91d-05ec-4f9a-e4d3-e3849917edb9"
      },
      "execution_count": null,
      "outputs": [
        {
          "output_type": "stream",
          "name": "stdout",
          "text": [
            "<class 'int'>\n"
          ]
        }
      ]
    },
    {
      "cell_type": "markdown",
      "source": [
        "2.3 Convertissez price en int"
      ],
      "metadata": {
        "id": "--gnDHGLcYin"
      }
    },
    {
      "cell_type": "code",
      "source": [
        "price = 5.6\n",
        "converted_en_int = int(price)\n",
        "print(type(converted_en_int))"
      ],
      "metadata": {
        "id": "oi21CeBVcTLH",
        "colab": {
          "base_uri": "https://localhost:8080/"
        },
        "outputId": "7e0f4c0b-ef74-4988-9ea7-c9153e31c38c"
      },
      "execution_count": null,
      "outputs": [
        {
          "output_type": "stream",
          "name": "stdout",
          "text": [
            "<class 'int'>\n"
          ]
        }
      ]
    },
    {
      "cell_type": "markdown",
      "source": [
        "2.4 Que pouvez-vous remarquer ?"
      ],
      "metadata": {
        "id": "ZYsPxH7vcho9"
      }
    },
    {
      "cell_type": "markdown",
      "source": [
        "Réponse:"
      ],
      "metadata": {
        "id": "Le9gddo6ckPP"
      }
    },
    {
      "cell_type": "markdown",
      "source": [],
      "metadata": {
        "id": "iRXIY01WLQna"
      }
    },
    {
      "cell_type": "markdown",
      "source": [
        "2.5 Trouvez le moyen d'arrondir temperature."
      ],
      "metadata": {
        "id": "YmPGqs_FcmZh"
      }
    },
    {
      "cell_type": "code",
      "source": [
        "temperature = 5.6\n",
        "moyen_arroundi = round(temperature)\n",
        "print(moyen_arroundi)\n",
        "print(type(moyen_arroundi))\n",
        "print(type(temperature))"
      ],
      "metadata": {
        "id": "UUInqFe9cbMJ",
        "colab": {
          "base_uri": "https://localhost:8080/"
        },
        "outputId": "4a02b220-0aad-406b-8a8e-18a588d86fed"
      },
      "execution_count": null,
      "outputs": [
        {
          "output_type": "stream",
          "name": "stdout",
          "text": [
            "6\n",
            "<class 'int'>\n",
            "<class 'float'>\n"
          ]
        }
      ]
    },
    {
      "cell_type": "markdown",
      "source": [
        "2.6 Après avoir arrondi temperature, est-ce que c'est toujours un `float` ?  \n",
        "Réponse: Oui"
      ],
      "metadata": {
        "id": "OGJ4a9Abc7Jj"
      }
    },
    {
      "cell_type": "markdown",
      "source": [
        "2.7 Ci-dessous, est-ce que height est un `int` ? Non\n"
      ],
      "metadata": {
        "id": "deL_WAeRdN8Y"
      }
    },
    {
      "cell_type": "code",
      "source": [
        "height = 6.0\n",
        "print(type(height))\n"
      ],
      "metadata": {
        "id": "BZqcem6pcvWh",
        "colab": {
          "base_uri": "https://localhost:8080/"
        },
        "outputId": "d0d3e70b-edd5-493f-8913-22b298fbf842"
      },
      "execution_count": null,
      "outputs": [
        {
          "output_type": "stream",
          "name": "stdout",
          "text": [
            "<class 'float'>\n"
          ]
        }
      ]
    },
    {
      "cell_type": "markdown",
      "source": [
        "2.8 Arrondissez pi avec 3 valeurs décimales."
      ],
      "metadata": {
        "id": "AtfSIpVoda02"
      }
    },
    {
      "cell_type": "code",
      "source": [
        "pi = 3.14159265359\n",
        "arroundi_pi = round(pi,3)\n",
        "arroundi_pi"
      ],
      "metadata": {
        "id": "rqf7z-e6dUYW",
        "colab": {
          "base_uri": "https://localhost:8080/"
        },
        "outputId": "2cc74b5b-65ae-4f17-9876-d1b5f33ff33d"
      },
      "execution_count": null,
      "outputs": [
        {
          "output_type": "execute_result",
          "data": {
            "text/plain": [
              "3.142"
            ]
          },
          "metadata": {},
          "execution_count": 18
        }
      ]
    },
    {
      "cell_type": "markdown",
      "source": [
        "# Built-in Function"
      ],
      "metadata": {
        "id": "JErtlPWEK1Tj"
      }
    },
    {
      "cell_type": "markdown",
      "source": [
        "3.1 Utilisez une [built-in function](https://docs.python.org/3/library/functions.html) pour compter le nombre de caractères dans l'objet de type `string` suivant:"
      ],
      "metadata": {
        "id": "omp-PFHNd9pe"
      }
    },
    {
      "cell_type": "code",
      "source": [
        "greeting = \"Hello World\"\n",
        "len(greeting)"
      ],
      "metadata": {
        "id": "nZbmZIzOdpGy",
        "colab": {
          "base_uri": "https://localhost:8080/"
        },
        "outputId": "927c8fae-c429-496e-acf3-7922fd5627fc"
      },
      "execution_count": null,
      "outputs": [
        {
          "output_type": "execute_result",
          "data": {
            "text/plain": [
              "11"
            ]
          },
          "metadata": {},
          "execution_count": 20
        }
      ]
    },
    {
      "cell_type": "markdown",
      "source": [
        "3.2 Utilisez une built-in function pour compter le nombre d'éléments dans l'objet de type `list` suivant:"
      ],
      "metadata": {
        "id": "oQvcgJFsegje"
      }
    },
    {
      "cell_type": "code",
      "source": [
        "mixed_data = [\"non\", \"pas\", 1, \"ni\", 2, \"ni\", 3, \"mais\", 7.2132]\n",
        "len(mixed_data)"
      ],
      "metadata": {
        "id": "Xlu7vug7eT19",
        "colab": {
          "base_uri": "https://localhost:8080/"
        },
        "outputId": "8b7cc6fa-093b-40d2-e896-d0385678c5a2"
      },
      "execution_count": null,
      "outputs": [
        {
          "output_type": "execute_result",
          "data": {
            "text/plain": [
              "9"
            ]
          },
          "metadata": {},
          "execution_count": 21
        }
      ]
    },
    {
      "cell_type": "markdown",
      "source": [
        "3.3 Utilisez une built-in function sur une des deux variables pour que `resultat`  contienne une valeur positive."
      ],
      "metadata": {
        "id": "e_y4P_HfO6Sa"
      }
    },
    {
      "cell_type": "code",
      "source": [
        "positive_number = 4\n",
        "negative_number = -5\n",
        "negative_number = abs(negative_number)\n",
        "resultat = positive_number + negative_number\n",
        "resultat"
      ],
      "metadata": {
        "id": "EAiCfX-pO8ag",
        "colab": {
          "base_uri": "https://localhost:8080/"
        },
        "outputId": "29421b50-6947-4699-c488-c85533c4cc8f"
      },
      "execution_count": null,
      "outputs": [
        {
          "output_type": "execute_result",
          "data": {
            "text/plain": [
              "9"
            ]
          },
          "metadata": {},
          "execution_count": 2
        }
      ]
    },
    {
      "cell_type": "markdown",
      "source": [
        "3.4 Utilisez une built-in function pour renvoyer la valeur minimum de la `list` suivante:"
      ],
      "metadata": {
        "id": "tpdiCu2TPvVP"
      }
    },
    {
      "cell_type": "code",
      "source": [
        "values = [3.2, 41, 2, 23, 7]\n",
        "min(values)\n"
      ],
      "metadata": {
        "id": "AipGfEYUP4CQ",
        "colab": {
          "base_uri": "https://localhost:8080/"
        },
        "outputId": "e96a6750-307b-4a7d-cf37-ab669fdf1057"
      },
      "execution_count": null,
      "outputs": [
        {
          "output_type": "execute_result",
          "data": {
            "text/plain": [
              "2"
            ]
          },
          "metadata": {},
          "execution_count": 25
        }
      ]
    },
    {
      "cell_type": "markdown",
      "source": [
        "3.5 Utilisez une built-in function pour renvoyer la somme des valeurs de la `list` suivante:"
      ],
      "metadata": {
        "id": "T1wT0YOhQKhL"
      }
    },
    {
      "cell_type": "code",
      "source": [
        "values = [3.2, 41, 2, 23, 7]\n",
        "sum(values)"
      ],
      "metadata": {
        "id": "5uBfLsKyQjgz",
        "colab": {
          "base_uri": "https://localhost:8080/"
        },
        "outputId": "14f8fd9e-73d9-49f2-a87c-62c0bfc4c545"
      },
      "execution_count": null,
      "outputs": [
        {
          "output_type": "execute_result",
          "data": {
            "text/plain": [
              "76.2"
            ]
          },
          "metadata": {},
          "execution_count": 26
        }
      ]
    }
  ]
}