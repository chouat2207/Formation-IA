{
  "nbformat": 4,
  "nbformat_minor": 0,
  "metadata": {
    "colab": {
      "provenance": [],
      "include_colab_link": true
    },
    "kernelspec": {
      "name": "python3",
      "display_name": "Python 3"
    },
    "language_info": {
      "name": "python"
    }
  },
  "cells": [
    {
      "cell_type": "markdown",
      "metadata": {
        "id": "view-in-github",
        "colab_type": "text"
      },
      "source": [
        "<a href=\"https://colab.research.google.com/github/chouat2207/Python/blob/main/FR_Python_1_1_Variables_%26_Built_in_functions.ipynb\" target=\"_parent\"><img src=\"https://colab.research.google.com/assets/colab-badge.svg\" alt=\"Open In Colab\"/></a>"
      ]
    },
    {
      "cell_type": "markdown",
      "source": [
        "# Type"
      ],
      "metadata": {
        "id": "p0IY6ccQKu9_"
      }
    },
    {
      "cell_type": "code",
      "source": [],
      "metadata": {
        "id": "lXVespjY8W4H"
      },
      "execution_count": null,
      "outputs": []
    },
    {
      "cell_type": "markdown",
      "source": [
        "1. Dans la cellule de code ci-dessous, quel est, pour chaque cellule, le type de chaque objet ?  \n",
        "`indice`: vous pouvez utiliser `type(x)` pour le révéler."
      ],
      "metadata": {
        "id": "chbM0tgeZpEf"
      }
    },
    {
      "cell_type": "markdown",
      "source": [
        "1.1"
      ],
      "metadata": {
        "id": "gw9bORxUJxGm"
      }
    },
    {
      "cell_type": "code",
      "execution_count": null,
      "metadata": {
        "id": "WjJmN0AxZBLw"
      },
      "outputs": [],
      "source": [
        "count = 5\n"
      ]
    },
    {
      "cell_type": "markdown",
      "source": [
        "1.2"
      ],
      "metadata": {
        "id": "3IfX8iZxJyQ2"
      }
    },
    {
      "cell_type": "code",
      "source": [
        "greeting = \"Hello World\""
      ],
      "metadata": {
        "id": "latNGJ8caLkY"
      },
      "execution_count": null,
      "outputs": []
    },
    {
      "cell_type": "markdown",
      "source": [
        "1.3"
      ],
      "metadata": {
        "id": "-Elw3kFRJzKd"
      }
    },
    {
      "cell_type": "code",
      "source": [
        "price = 2.5"
      ],
      "metadata": {
        "id": "tf7IgsXZa15e"
      },
      "execution_count": null,
      "outputs": []
    },
    {
      "cell_type": "markdown",
      "source": [
        "1.4"
      ],
      "metadata": {
        "id": "5CJ3Q9qfJ0xJ"
      }
    },
    {
      "cell_type": "code",
      "source": [
        "color_palette = [\"mintcream\", \"burlywood\", \"salmon\"]"
      ],
      "metadata": {
        "id": "6YNM6DLHa50P"
      },
      "execution_count": null,
      "outputs": []
    },
    {
      "cell_type": "markdown",
      "source": [
        "1.5"
      ],
      "metadata": {
        "id": "E3ro5cT-J1sV"
      }
    },
    {
      "cell_type": "code",
      "source": [
        "colors = (\"mintcream\", \"burlywood\", \"salmon\")"
      ],
      "metadata": {
        "id": "wCaEFel6a-Fd"
      },
      "execution_count": null,
      "outputs": []
    },
    {
      "cell_type": "markdown",
      "source": [
        "1.6"
      ],
      "metadata": {
        "id": "eGBMyBrjJ2xe"
      }
    },
    {
      "cell_type": "code",
      "source": [
        "person_info = {\"name\": \"Jules César\", \"Job\": \"Musician\", \"age\": 55}"
      ],
      "metadata": {
        "id": "gO0rMS0ubLkg"
      },
      "execution_count": null,
      "outputs": []
    },
    {
      "cell_type": "markdown",
      "source": [
        "1.7"
      ],
      "metadata": {
        "id": "n2IIfrgNJ4Ln"
      }
    },
    {
      "cell_type": "code",
      "source": [
        "is_active = True"
      ],
      "metadata": {
        "id": "lpPCkWfWbY3N"
      },
      "execution_count": null,
      "outputs": []
    },
    {
      "cell_type": "markdown",
      "source": [
        "2. Maintenant, vous allez devoir convertir des objets d'un certain type, en un autre type d'objet.  \n",
        "C'est parti !"
      ],
      "metadata": {
        "id": "J-YXtU1Yb2pi"
      }
    },
    {
      "cell_type": "markdown",
      "source": [
        "2.1 Convertissez count en float."
      ],
      "metadata": {
        "id": "yerUe3q7cMmR"
      }
    },
    {
      "cell_type": "code",
      "source": [
        "count = 5\n"
      ],
      "metadata": {
        "id": "yVs2Ry3NbpEW"
      },
      "execution_count": null,
      "outputs": []
    },
    {
      "cell_type": "markdown",
      "source": [
        "2.2 Convertissez price en int"
      ],
      "metadata": {
        "id": "q0LodnjUcPyl"
      }
    },
    {
      "cell_type": "code",
      "source": [
        "price = 5.4"
      ],
      "metadata": {
        "id": "0Ffo568UcJBg"
      },
      "execution_count": null,
      "outputs": []
    },
    {
      "cell_type": "markdown",
      "source": [
        "2.3 Convertissez price en int"
      ],
      "metadata": {
        "id": "--gnDHGLcYin"
      }
    },
    {
      "cell_type": "code",
      "source": [
        "price = 5.6\n"
      ],
      "metadata": {
        "id": "oi21CeBVcTLH"
      },
      "execution_count": null,
      "outputs": []
    },
    {
      "cell_type": "markdown",
      "source": [
        "2.4 Que pouvez-vous remarquer ?"
      ],
      "metadata": {
        "id": "ZYsPxH7vcho9"
      }
    },
    {
      "cell_type": "markdown",
      "source": [
        "Réponse:"
      ],
      "metadata": {
        "id": "Le9gddo6ckPP"
      }
    },
    {
      "cell_type": "markdown",
      "source": [],
      "metadata": {
        "id": "iRXIY01WLQna"
      }
    },
    {
      "cell_type": "markdown",
      "source": [
        "2.5 Trouvez le moyen d'arrondir temperature."
      ],
      "metadata": {
        "id": "YmPGqs_FcmZh"
      }
    },
    {
      "cell_type": "code",
      "source": [
        "temperature = 5.6\n"
      ],
      "metadata": {
        "id": "UUInqFe9cbMJ"
      },
      "execution_count": null,
      "outputs": []
    },
    {
      "cell_type": "markdown",
      "source": [
        "2.6 Après avoir arrondi temperature, est-ce que c'est toujours un `float` ?  \n",
        "Réponse:"
      ],
      "metadata": {
        "id": "OGJ4a9Abc7Jj"
      }
    },
    {
      "cell_type": "markdown",
      "source": [
        "2.7 Ci-dessous, est-ce que height est un `int` ?"
      ],
      "metadata": {
        "id": "deL_WAeRdN8Y"
      }
    },
    {
      "cell_type": "code",
      "source": [
        "height = 6.0\n"
      ],
      "metadata": {
        "id": "BZqcem6pcvWh"
      },
      "execution_count": null,
      "outputs": []
    },
    {
      "cell_type": "markdown",
      "source": [
        "2.8 Arrondissez pi avec 3 valeurs décimales."
      ],
      "metadata": {
        "id": "AtfSIpVoda02"
      }
    },
    {
      "cell_type": "code",
      "source": [
        "pi = 3.14159265359\n"
      ],
      "metadata": {
        "id": "rqf7z-e6dUYW"
      },
      "execution_count": null,
      "outputs": []
    },
    {
      "cell_type": "markdown",
      "source": [
        "# Built-in Function"
      ],
      "metadata": {
        "id": "JErtlPWEK1Tj"
      }
    },
    {
      "cell_type": "markdown",
      "source": [
        "3.1 Utilisez une [built-in function](https://docs.python.org/3/library/functions.html) pour compter le nombre de caractères dans l'objet de type `string` suivant:"
      ],
      "metadata": {
        "id": "omp-PFHNd9pe"
      }
    },
    {
      "cell_type": "code",
      "source": [
        "greeting = \"Hello World\"\n"
      ],
      "metadata": {
        "id": "nZbmZIzOdpGy"
      },
      "execution_count": null,
      "outputs": []
    },
    {
      "cell_type": "markdown",
      "source": [
        "3.2 Utilisez une built-in function pour compter le nombre d'éléments dans l'objet de type `list` suivant:"
      ],
      "metadata": {
        "id": "oQvcgJFsegje"
      }
    },
    {
      "cell_type": "code",
      "source": [
        "mixed_data = [\"non\", \"pas\", 1, \"ni\", 2, \"ni\", 3, \"mais\", 7.2132]\n"
      ],
      "metadata": {
        "id": "Xlu7vug7eT19"
      },
      "execution_count": null,
      "outputs": []
    },
    {
      "cell_type": "markdown",
      "source": [
        "3.3 Utilisez une built-in function sur une des deux variables pour que `resultat`  contienne une valeur positive."
      ],
      "metadata": {
        "id": "e_y4P_HfO6Sa"
      }
    },
    {
      "cell_type": "code",
      "source": [
        "positive_number = 4\n",
        "negative_number = -5\n",
        "\n",
        "resultat = positive_number + negative_number"
      ],
      "metadata": {
        "id": "EAiCfX-pO8ag"
      },
      "execution_count": null,
      "outputs": []
    },
    {
      "cell_type": "markdown",
      "source": [
        "3.4 Utilisez une built-in function pour renvoyer la valeur minimum de la `list` suivante:"
      ],
      "metadata": {
        "id": "tpdiCu2TPvVP"
      }
    },
    {
      "cell_type": "code",
      "source": [
        "values = [3.2, 41, 2, 23, 7]\n"
      ],
      "metadata": {
        "id": "AipGfEYUP4CQ"
      },
      "execution_count": null,
      "outputs": []
    },
    {
      "cell_type": "markdown",
      "source": [
        "3.5 Utilisez une built-in function pour renvoyer la somme des valeurs de la `list` suivante:"
      ],
      "metadata": {
        "id": "T1wT0YOhQKhL"
      }
    },
    {
      "cell_type": "code",
      "source": [
        "values = [3.2, 41, 2, 23, 7]"
      ],
      "metadata": {
        "id": "5uBfLsKyQjgz"
      },
      "execution_count": null,
      "outputs": []
    }
  ]
}