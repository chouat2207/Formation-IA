{
  "nbformat": 4,
  "nbformat_minor": 0,
  "metadata": {
    "colab": {
      "provenance": [],
      "toc_visible": true,
      "include_colab_link": true
    },
    "kernelspec": {
      "name": "python3",
      "display_name": "Python 3"
    },
    "language_info": {
      "name": "python"
    }
  },
  "cells": [
    {
      "cell_type": "markdown",
      "metadata": {
        "id": "view-in-github",
        "colab_type": "text"
      },
      "source": [
        "<a href=\"https://colab.research.google.com/github/chouat2207/Python/blob/main/Python_2_3_List_Introduction_challenge.ipynb\" target=\"_parent\"><img src=\"https://colab.research.google.com/assets/colab-badge.svg\" alt=\"Open In Colab\"/></a>"
      ]
    },
    {
      "cell_type": "markdown",
      "source": [
        "# Mission 1"
      ],
      "metadata": {
        "id": "uDlWe7PiBUjB"
      }
    },
    {
      "cell_type": "markdown",
      "source": [
        "For each cell, execute the code and answer the question before moving on to the next."
      ],
      "metadata": {
        "id": "Cp5MIVdGBwBW"
      }
    },
    {
      "cell_type": "code",
      "execution_count": null,
      "metadata": {
        "id": "C66ySw9N3hfc",
        "colab": {
          "base_uri": "https://localhost:8080/"
        },
        "outputId": "9b2c866d-f27d-460b-e37c-bf1e846dcc45"
      },
      "outputs": [
        {
          "output_type": "stream",
          "name": "stdout",
          "text": [
            "(0, 'Fredy')\n",
            "<class 'tuple'>\n",
            "(1, 'Nicolas')\n",
            "<class 'tuple'>\n",
            "(2, 'Alexandre')\n",
            "<class 'tuple'>\n"
          ]
        }
      ],
      "source": [
        "names = [\"Fredy\", \"Nicolas\", \"Alexandre\"]\n",
        "\n",
        "for i in enumerate(names):\n",
        "  print(i)\n",
        "  print(type(i))\n"
      ]
    },
    {
      "cell_type": "markdown",
      "source": [
        "1. What type of object is returned as output?  \n",
        "Hint: You can use `type(i)`."
      ],
      "metadata": {
        "id": "m0NGV7X-B5Q6"
      }
    },
    {
      "cell_type": "markdown",
      "source": [
        "*Answer*::\n",
        "  **it is a  tuple**\n"
      ],
      "metadata": {
        "id": "ZbegLZzxFOY_"
      }
    },
    {
      "cell_type": "markdown",
      "source": [],
      "metadata": {
        "id": "pdlEqtCeufH3"
      }
    },
    {
      "cell_type": "code",
      "source": [],
      "metadata": {
        "id": "U8NLNkqMWlda"
      },
      "execution_count": null,
      "outputs": []
    },
    {
      "cell_type": "code",
      "source": [
        "for i, val in enumerate(names):\n",
        "  print(val)"
      ],
      "metadata": {
        "colab": {
          "base_uri": "https://localhost:8080/"
        },
        "id": "mONbGEMtCe5S",
        "outputId": "0d6186ea-612e-4210-cf5a-55c80393473b"
      },
      "execution_count": null,
      "outputs": [
        {
          "output_type": "stream",
          "name": "stdout",
          "text": [
            "Fredy\n",
            "Nicolas\n",
            "Alexandre\n"
          ]
        }
      ]
    },
    {
      "cell_type": "markdown",
      "source": [
        "2. What does `i` correspond to?  \n",
        "What does `val` correspond to?  \n",
        "Why is it so?"
      ],
      "metadata": {
        "id": "O1J3Y5xICnyE"
      }
    },
    {
      "cell_type": "markdown",
      "source": [
        "Answer:  **i for the index and val for the values,\n",
        "to determine the index at each value.**\n"
      ],
      "metadata": {
        "id": "Hra3BMoSFSAp"
      }
    },
    {
      "cell_type": "code",
      "source": [],
      "metadata": {
        "id": "ygXVIZftChbD"
      },
      "execution_count": null,
      "outputs": []
    },
    {
      "cell_type": "code",
      "source": [
        "for val, i in enumerate(names):\n",
        "  print(val)\n"
      ],
      "metadata": {
        "colab": {
          "base_uri": "https://localhost:8080/"
        },
        "id": "OaKBK889C9Q1",
        "outputId": "9aeef8f8-5a89-44b7-ee78-cf175fda799d"
      },
      "execution_count": null,
      "outputs": [
        {
          "output_type": "stream",
          "name": "stdout",
          "text": [
            "0\n",
            "1\n",
            "2\n"
          ]
        }
      ]
    },
    {
      "cell_type": "markdown",
      "source": [
        "3. This time, `i` returns first names and `val` returns numbers. Why is it so?"
      ],
      "metadata": {
        "id": "YhhuOPblDIqq"
      }
    },
    {
      "cell_type": "markdown",
      "source": [
        "Answer: **val return index et i return values**"
      ],
      "metadata": {
        "id": "RamzW6BxFTBL"
      }
    },
    {
      "cell_type": "markdown",
      "source": [
        "4. What does the built in function `enumerate` do?\n",
        "In what cases can it be useful?"
      ],
      "metadata": {
        "id": "PKGOxIHVDWGW"
      }
    },
    {
      "cell_type": "markdown",
      "source": [
        "Answer: **To return l'index of values in the liste.**\n"
      ],
      "metadata": {
        "id": "wURNpEH8FTrg"
      }
    },
    {
      "cell_type": "markdown",
      "source": [
        "# Mission 2"
      ],
      "metadata": {
        "id": "pCDLjuMPDk_D"
      }
    },
    {
      "cell_type": "code",
      "source": [
        "test_list = ['Hi', 'my', 'name', 'is', \"hi\", \"my\",\"name\", \"is\", \"chickychicky\"]\n",
        "\n",
        "test_list[8] = \"Marshall\"\n",
        "\n",
        "test_list"
      ],
      "metadata": {
        "colab": {
          "base_uri": "https://localhost:8080/"
        },
        "id": "OUicSHpGDHQB",
        "outputId": "67138953-4ef3-4c34-b6a5-94a6b5fb84b4"
      },
      "execution_count": null,
      "outputs": [
        {
          "output_type": "execute_result",
          "data": {
            "text/plain": [
              "['Hi', 'my', 'name', 'is', 'hi', 'my', 'name', 'is', 'Marshall']"
            ]
          },
          "metadata": {},
          "execution_count": 1
        }
      ]
    },
    {
      "cell_type": "markdown",
      "source": [
        "1. What does the 8 in square brackets mean?  \n",
        "What action has been performed?"
      ],
      "metadata": {
        "id": "5vU7vFyJFjf_"
      }
    },
    {
      "cell_type": "markdown",
      "source": [
        "Answer: **8 mean l'index 8 in the liste for this example is \"chickychicky\",\n",
        "the action is we replace \"chickychicky\" with \"Marshall\".**"
      ],
      "metadata": {
        "id": "fgf3N7i_Fr52"
      }
    },
    {
      "cell_type": "code",
      "source": [
        "for i in range(4):\n",
        "  print(test_list[i])"
      ],
      "metadata": {
        "colab": {
          "base_uri": "https://localhost:8080/"
        },
        "id": "wIPAn8qH-qwW",
        "outputId": "ecf9d552-9f51-4cff-9b23-a2330ef8f39e"
      },
      "execution_count": null,
      "outputs": [
        {
          "output_type": "stream",
          "name": "stdout",
          "text": [
            "Hi\n",
            "my\n",
            "name\n",
            "is\n"
          ]
        }
      ]
    },
    {
      "cell_type": "markdown",
      "source": [
        "2. What does `range(4)` mean?  \n",
        "Why are only the first 4 elements of `test_list` displayed?"
      ],
      "metadata": {
        "id": "BVh-q0nmGHhB"
      }
    },
    {
      "cell_type": "markdown",
      "source": [
        "Answer: **Range give us the first 4 element in the liste\n",
        "because it fixed the range in first 4 so the boucle we give us only the 4 element in the liste.**"
      ],
      "metadata": {
        "id": "l2mfg-LtIZD1"
      }
    },
    {
      "cell_type": "code",
      "source": [
        "for i in range(2, 8, 2):\n",
        "  print(test_list[i])"
      ],
      "metadata": {
        "colab": {
          "base_uri": "https://localhost:8080/"
        },
        "id": "JS77sJmx-1QN",
        "outputId": "1fbdd126-2687-487e-99b5-0561bb90c444"
      },
      "execution_count": null,
      "outputs": [
        {
          "output_type": "stream",
          "name": "stdout",
          "text": [
            "name\n",
            "hi\n",
            "name\n"
          ]
        }
      ]
    },
    {
      "cell_type": "markdown",
      "source": [
        "3. What does `range(2,8,2)` mean ?  \n",
        "Why are only the elements 'name', 'hi' and 'name' displayed?"
      ],
      "metadata": {
        "id": "VO83ul-zGvFY"
      }
    },
    {
      "cell_type": "markdown",
      "source": [
        "Answer: **Range (2,8,2) give us the first element of index 2 to the 8 element with 2 steps.**"
      ],
      "metadata": {
        "id": "IFp2-uyVIaPS"
      }
    },
    {
      "cell_type": "markdown",
      "source": [
        "# Mission 3"
      ],
      "metadata": {
        "id": "VUR6EDHmHAbn"
      }
    },
    {
      "cell_type": "code",
      "source": [
        "numbers = [2,3,1,5,9]\n",
        "\n",
        "for i in range(10,15):\n",
        "  numbers.append(i)\n",
        "\n",
        "numbers"
      ],
      "metadata": {
        "colab": {
          "base_uri": "https://localhost:8080/"
        },
        "id": "DsNTsY3iGecu",
        "outputId": "263c9ddc-f2ef-44c2-d074-5264b23a5732"
      },
      "execution_count": null,
      "outputs": [
        {
          "output_type": "execute_result",
          "data": {
            "text/plain": [
              "[2, 3, 1, 5, 9, 10, 11, 12, 13, 14]"
            ]
          },
          "metadata": {},
          "execution_count": 29
        }
      ]
    },
    {
      "cell_type": "markdown",
      "source": [
        "1. What does `range(10,15)` mean ?  \n",
        "  What is the purpose of the method `append()` ?\n",
        "\n",
        "  "
      ],
      "metadata": {
        "id": "QsekBYrWHwQR"
      }
    },
    {
      "cell_type": "markdown",
      "source": [
        "Answer: **Range(10,15) means that i takes as a value from 10 to 14,\n",
        "and append() that the value of i save in the liste numbers.**"
      ],
      "metadata": {
        "id": "JT4kKPPWIczy"
      }
    },
    {
      "cell_type": "code",
      "source": [],
      "metadata": {
        "id": "Ca5Mj5riHvAt"
      },
      "execution_count": null,
      "outputs": []
    },
    {
      "cell_type": "markdown",
      "source": [
        "2. What is the purpose of the `del` command?"
      ],
      "metadata": {
        "id": "v23Vk1pcIGM0"
      }
    },
    {
      "cell_type": "markdown",
      "source": [
        "Answer: **del command is to remove un element from the liste with the index.**"
      ],
      "metadata": {
        "id": "N4xgFRi4IFfr"
      }
    },
    {
      "cell_type": "markdown",
      "source": [
        "# Mission 4"
      ],
      "metadata": {
        "id": "Kfh_ZpPVIi2i"
      }
    },
    {
      "cell_type": "code",
      "source": [
        "import random\n",
        "\n",
        "random.randint(0,10)"
      ],
      "metadata": {
        "colab": {
          "base_uri": "https://localhost:8080/"
        },
        "id": "VOe2C7USID1Y",
        "outputId": "acc85d89-998e-4679-9c96-7064060e34f0"
      },
      "execution_count": null,
      "outputs": [
        {
          "output_type": "execute_result",
          "data": {
            "text/plain": [
              "5"
            ]
          },
          "metadata": {},
          "execution_count": 31
        }
      ]
    },
    {
      "cell_type": "markdown",
      "source": [
        "1. What can the method `randint()` do ?"
      ],
      "metadata": {
        "id": "XlwR6lHYJRK0"
      }
    },
    {
      "cell_type": "markdown",
      "source": [
        "Answer: **Generate un ramdom number from 0 to 10.**"
      ],
      "metadata": {
        "id": "RhahQkQgJhA0"
      }
    },
    {
      "cell_type": "markdown",
      "source": [
        "2. What can the method `.insert()` do ?  \n",
        "You must answer using the terms 'parameter' and 'argument'."
      ],
      "metadata": {
        "id": "jnrvSzWOJ0ro"
      }
    },
    {
      "cell_type": "markdown",
      "source": [
        "Answer: **The insert() method inserts the specified argument at the\n",
        "specified parameter.**\n",
        "\n",
        "\n",
        "\n"
      ],
      "metadata": {
        "id": "F1s_PSgTKYMO"
      }
    },
    {
      "cell_type": "markdown",
      "source": [
        "# Mission 5"
      ],
      "metadata": {
        "id": "05RWlwppKZfA"
      }
    },
    {
      "cell_type": "code",
      "source": [
        "test_list = ['Hi', 'my', 'name', 'is', \"hi\", \"my\",\"name\", \"is\", \"chickychicky\"]\n",
        "\n",
        "test_list = \" \".join(test_list)\n",
        "\n",
        "test_list"
      ],
      "metadata": {
        "colab": {
          "base_uri": "https://localhost:8080/",
          "height": 35
        },
        "id": "N7uoWox_KPRW",
        "outputId": "953485e9-ef9b-4843-ffad-a149de99b608"
      },
      "execution_count": null,
      "outputs": [
        {
          "output_type": "execute_result",
          "data": {
            "text/plain": [
              "'Hi my name is hi my name is chickychicky'"
            ],
            "application/vnd.google.colaboratory.intrinsic+json": {
              "type": "string"
            }
          },
          "metadata": {},
          "execution_count": 38
        }
      ]
    },
    {
      "cell_type": "markdown",
      "source": [
        "1. What can the `.join()` method do?  \n",
        "What is the type of `test_list` before using `.join()`?  \n",
        "What is the type of `test_list` after using `.join()`?"
      ],
      "metadata": {
        "id": "dRXmNBFSLRnv"
      }
    },
    {
      "cell_type": "markdown",
      "source": [
        "Answer: **The methode join() replace the liste to string of caracter,\n",
        "the type of test_liste before using join() is a liste but after using join is a string.**"
      ],
      "metadata": {
        "id": "0-5Ci6OiXxZ8"
      }
    },
    {
      "cell_type": "code",
      "source": [
        "christmas = \"Noël c'est bien, mais attention à ne pas manger trop de chocolat. On le sait, mais on le fais à chaque fois. C'est la vie\"\n",
        "\n",
        "christmas.split()"
      ],
      "metadata": {
        "id": "kesRy9ZrLFFF",
        "colab": {
          "base_uri": "https://localhost:8080/"
        },
        "outputId": "be078b02-3db5-4b7e-e497-ca4ecd548f8a"
      },
      "execution_count": null,
      "outputs": [
        {
          "output_type": "execute_result",
          "data": {
            "text/plain": [
              "['Noël',\n",
              " \"c'est\",\n",
              " 'bien,',\n",
              " 'mais',\n",
              " 'attention',\n",
              " 'à',\n",
              " 'ne',\n",
              " 'pas',\n",
              " 'manger',\n",
              " 'trop',\n",
              " 'de',\n",
              " 'chocolat.',\n",
              " 'On',\n",
              " 'le',\n",
              " 'sait,',\n",
              " 'mais',\n",
              " 'on',\n",
              " 'le',\n",
              " 'fais',\n",
              " 'à',\n",
              " 'chaque',\n",
              " 'fois.',\n",
              " \"C'est\",\n",
              " 'la',\n",
              " 'vie']"
            ]
          },
          "metadata": {},
          "execution_count": 1
        }
      ]
    },
    {
      "cell_type": "markdown",
      "source": [
        "2. What can the `.split()` method do?  \n",
        "What is the type of `christmas` before using `.split()`?  \n",
        "What is the type of `christmas` after using `.split()`?"
      ],
      "metadata": {
        "id": "seiR7Cp5MgMA"
      }
    },
    {
      "cell_type": "markdown",
      "source": [
        "Answer: **The method split() separte the string according to the given separator in parentheses with this example the espace.\n",
        "the type of christmas before split is a string but after is a liste.**"
      ],
      "metadata": {
        "id": "LrUVxQJFXvwG"
      }
    },
    {
      "cell_type": "code",
      "source": [
        "christmas = \"Noël c'est bien, mais attention à ne pas manger trop de chocolat. On le sait, mais on le fait à chaque fois. C'est la vie\"\n",
        "\n",
        "\n",
        "christmas.split(\"à\")"
      ],
      "metadata": {
        "id": "Ta5-JE99MV7F"
      },
      "execution_count": null,
      "outputs": []
    },
    {
      "cell_type": "markdown",
      "source": [
        "3. Why does the `.split()` method split the `string` into 3 elements?"
      ],
      "metadata": {
        "id": "hfyAmMrONAWj"
      }
    },
    {
      "cell_type": "markdown",
      "source": [
        "Answer: **Because there is 3 times of \"à\" in the string.**"
      ],
      "metadata": {
        "id": "Oe7KBC_tXtma"
      }
    }
  ]
}