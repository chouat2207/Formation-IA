{
  "nbformat": 4,
  "nbformat_minor": 0,
  "metadata": {
    "colab": {
      "provenance": [],
      "include_colab_link": true
    },
    "kernelspec": {
      "name": "python3",
      "display_name": "Python 3"
    },
    "language_info": {
      "name": "python"
    }
  },
  "cells": [
    {
      "cell_type": "markdown",
      "metadata": {
        "id": "view-in-github",
        "colab_type": "text"
      },
      "source": [
        "<a href=\"https://colab.research.google.com/github/chouat2207/Python/blob/main/Regex_python_Challenge_FR.ipynb\" target=\"_parent\"><img src=\"https://colab.research.google.com/assets/colab-badge.svg\" alt=\"Open In Colab\"/></a>"
      ]
    },
    {
      "cell_type": "markdown",
      "metadata": {
        "id": "HdEYWh631-Pk"
      },
      "source": [
        "##### Pour valider ce challenge, tu dois répondre aux questions ci-dessous en trouvant la Regex qui te permet d'obtenir le résultat attendu."
      ]
    },
    {
      "cell_type": "markdown",
      "metadata": {
        "id": "-hK3f5OA934q"
      },
      "source": [
        "Texte à utiliser pour ce challenge :\n",
        "\n",
        "\"Matrix (31/03/1999) - 130 minutes. IMDB note 9/10 (https://www.imdb.com/title/tt0133093). Thomas A. Anderson (Keanu Reeves), un jeune informaticien connu dans le monde du hacking sous le pseudonyme de Neo, est contacté via son ordinateur par ce qu’il pense être un groupe de hackers. Ils lui font découvrir que le monde dans lequel il vit n’est qu’un monde virtuel, la matrice, dans lequel les êtres humains sont gardés sous contrôle. Morpheus (Laurence Fishburne), le capitaine du Nebuchadnezzar, contacte Neo et pense que celui-ci est l’Élu qui peut libérer les êtres humains du joug des machines et prendre le contrôle de la matrice\""
      ]
    },
    {
      "cell_type": "markdown",
      "metadata": {
        "id": "7ypmXLUO9_3u"
      },
      "source": [
        "Copie le texte ci-dessus affecte le à une variable appelée 'texte'. Tu as vu quelques fonctions du module re dans la quête, et pour répondre aux questions ci-dessous, tu utiliseras la fonctions findall()"
      ]
    },
    {
      "cell_type": "code",
      "metadata": {
        "id": "aEshEWo_AlGo"
      },
      "source": [
        "texte = \"Matrix (31/03/1999) - 130 minutes. IMDB note 9/10 (https://www.imdb.com/title/tt0133093). Thomas A. Anderson (Keanu Reeves), un jeune informaticien connu dans le monde du hacking sous le pseudonyme de Neo, est contacté via son ordinateur par ce qu’il pense être un groupe de hackers. Ils lui font découvrir que le monde dans lequel il vit n’est qu’un monde virtuel, la matrice, dans lequel les êtres humains sont gardés sous contrôle. Morpheus (Laurence Fishburne), le capitaine du Nebuchadnezzar, contacte Neo et pense que celui-ci est l’Élu qui peut libérer les êtres humains du joug des machines et prendre le contrôle de la matrice\"\n"
      ],
      "execution_count": null,
      "outputs": []
    },
    {
      "cell_type": "code",
      "metadata": {
        "colab": {
          "base_uri": "https://localhost:8080/"
        },
        "id": "46a6Cna87K5R",
        "outputId": "7536c8a8-24a9-47ea-897b-bead91d9768c"
      },
      "source": [
        "# Exemple : je recherche toutes les suites de chiffres ('31', '03', '1999', '130', '9', '10', '0133093') contenues dans le texte\n",
        "\n",
        "import re\n",
        "re.findall('\\d+', texte)"
      ],
      "execution_count": null,
      "outputs": [
        {
          "output_type": "execute_result",
          "data": {
            "text/plain": [
              "['31', '03', '1999', '130', '9', '10', '0133093']"
            ]
          },
          "metadata": {},
          "execution_count": 2
        }
      ]
    },
    {
      "cell_type": "markdown",
      "metadata": {
        "id": "Y29t2o8G05fl"
      },
      "source": [
        "\\1. Trouve l'expression régulière qui cherche la seule occurrence du deuxième prénom de Néo (soit le A. de \"Thomas A. Anderson)."
      ]
    },
    {
      "cell_type": "code",
      "source": [
        "re.findall(r'A[.]', texte)"
      ],
      "metadata": {
        "colab": {
          "base_uri": "https://localhost:8080/"
        },
        "id": "K6Rx2pJD1Vmh",
        "outputId": "e89a1a06-fe3a-43c5-e27f-89bdf1663454"
      },
      "execution_count": null,
      "outputs": [
        {
          "output_type": "execute_result",
          "data": {
            "text/plain": [
              "['A.']"
            ]
          },
          "metadata": {},
          "execution_count": 29
        }
      ]
    },
    {
      "cell_type": "code",
      "metadata": {
        "id": "NP2M31zXILjD",
        "colab": {
          "base_uri": "https://localhost:8080/"
        },
        "outputId": "ca0aa782-6db8-4179-854a-bf52ccfb88ca"
      },
      "source": [
        "re.findall(r'A\\.{1}', texte)"
      ],
      "execution_count": null,
      "outputs": [
        {
          "output_type": "execute_result",
          "data": {
            "text/plain": [
              "['A.']"
            ]
          },
          "metadata": {},
          "execution_count": 20
        }
      ]
    },
    {
      "cell_type": "markdown",
      "metadata": {
        "id": "u3WCnUokAjKH"
      },
      "source": [
        "2. Trouve l'expression régulière qui cherche la date contenue dans le document."
      ]
    },
    {
      "cell_type": "code",
      "source": [
        "re.findall('\\d{2}/\\d{2}/\\d{4}', texte)"
      ],
      "metadata": {
        "colab": {
          "base_uri": "https://localhost:8080/"
        },
        "id": "ByiCCRpE16b4",
        "outputId": "be834888-5d9c-4e15-bb0a-2c9e7c5b84f7"
      },
      "execution_count": null,
      "outputs": [
        {
          "output_type": "execute_result",
          "data": {
            "text/plain": [
              "['31/03/1999']"
            ]
          },
          "metadata": {},
          "execution_count": 35
        }
      ]
    },
    {
      "cell_type": "code",
      "metadata": {
        "id": "JMB8jDUqIM7-",
        "colab": {
          "base_uri": "https://localhost:8080/"
        },
        "outputId": "426dd2cc-e5d9-4d31-ee2b-791efa6732b6"
      },
      "source": [
        "re.findall(r'[0-3]\\d/[012]\\d/\\d{4}', texte)"
      ],
      "execution_count": null,
      "outputs": [
        {
          "output_type": "execute_result",
          "data": {
            "text/plain": [
              "['31/03/1999']"
            ]
          },
          "metadata": {},
          "execution_count": 16
        }
      ]
    },
    {
      "cell_type": "markdown",
      "metadata": {
        "id": "SrLTfLE-BTLG"
      },
      "source": [
        "3. Trouve l'expression qui cherche la note contenue dans le texte, sans pour autant sélectionner une partie de la date (tu peux t'aider du caractère espace avant la note)"
      ]
    },
    {
      "cell_type": "code",
      "source": [
        "re.findall(r'(\\d/10)', texte)"
      ],
      "metadata": {
        "colab": {
          "base_uri": "https://localhost:8080/"
        },
        "id": "M6vCpw-o2oRh",
        "outputId": "4296eb0d-98dd-4bcc-ad91-47e5f87ff2c7"
      },
      "execution_count": null,
      "outputs": [
        {
          "output_type": "execute_result",
          "data": {
            "text/plain": [
              "['9/10']"
            ]
          },
          "metadata": {},
          "execution_count": 36
        }
      ]
    },
    {
      "cell_type": "code",
      "metadata": {
        "id": "B45gxTdpIOEp",
        "colab": {
          "base_uri": "https://localhost:8080/"
        },
        "outputId": "3ce908ca-4272-4233-d38f-07564c289cc4"
      },
      "source": [
        "re.findall(r'\\s(\\d/10)', texte)"
      ],
      "execution_count": null,
      "outputs": [
        {
          "output_type": "execute_result",
          "data": {
            "text/plain": [
              "['9/10']"
            ]
          },
          "metadata": {},
          "execution_count": 17
        }
      ]
    },
    {
      "cell_type": "markdown",
      "metadata": {
        "id": "_aOfPMjhDtfe"
      },
      "source": [
        "4. Trouve l'expression régulière qui renvoie les mots ayant au moins 14 caractères (tu devrais trouver l'age du capitaine, à moins que ça ne soit son vaisseau !)"
      ]
    },
    {
      "cell_type": "code",
      "source": [
        "re.findall('\\w{14,}', texte)"
      ],
      "metadata": {
        "colab": {
          "base_uri": "https://localhost:8080/"
        },
        "id": "XKWww4ZZ3O71",
        "outputId": "12b4235d-537e-419d-a772-9ab843db0723"
      },
      "execution_count": null,
      "outputs": [
        {
          "output_type": "execute_result",
          "data": {
            "text/plain": [
              "['Nebuchadnezzar']"
            ]
          },
          "metadata": {},
          "execution_count": 45
        }
      ]
    },
    {
      "cell_type": "code",
      "metadata": {
        "id": "iTl4CVwkIPEE",
        "colab": {
          "base_uri": "https://localhost:8080/"
        },
        "outputId": "5f900f12-31eb-4e91-8458-550366de72b4"
      },
      "source": [
        "re.findall(r'([a-zA-Z]{14,})', texte)"
      ],
      "execution_count": null,
      "outputs": [
        {
          "output_type": "execute_result",
          "data": {
            "text/plain": [
              "['Nebuchadnezzar']"
            ]
          },
          "metadata": {},
          "execution_count": 41
        }
      ]
    },
    {
      "cell_type": "markdown",
      "metadata": {
        "id": "UhC4JFKFEHig"
      },
      "source": [
        "5. Trouve l'expression régulière qui correspond à l'url de la fiche du film sur IMDB https://www.imdb.com/title/tt0133093 (attention à ne pas sélectionner les parenthèses)"
      ]
    },
    {
      "cell_type": "code",
      "metadata": {
        "id": "MrmyRNCbIQuM",
        "colab": {
          "base_uri": "https://localhost:8080/"
        },
        "outputId": "1ad74aa5-ba4b-4866-e0ea-0998c975837a"
      },
      "source": [
        "re.findall(r'https://[\\w\\./]+', texte)"
      ],
      "execution_count": null,
      "outputs": [
        {
          "output_type": "execute_result",
          "data": {
            "text/plain": [
              "['https://www.imdb.com/title/tt0133093']"
            ]
          },
          "metadata": {},
          "execution_count": 19
        }
      ]
    }
  ]
}