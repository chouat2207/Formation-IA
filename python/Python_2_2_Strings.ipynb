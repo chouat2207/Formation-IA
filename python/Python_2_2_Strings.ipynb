{
  "nbformat": 4,
  "nbformat_minor": 0,
  "metadata": {
    "colab": {
      "provenance": [],
      "include_colab_link": true
    },
    "kernelspec": {
      "name": "python3",
      "display_name": "Python 3"
    }
  },
  "cells": [
    {
      "cell_type": "markdown",
      "metadata": {
        "id": "view-in-github",
        "colab_type": "text"
      },
      "source": [
        "<a href=\"https://colab.research.google.com/github/chouat2207/Python/blob/main/Python_2_2_Strings.ipynb\" target=\"_parent\"><img src=\"https://colab.research.google.com/assets/colab-badge.svg\" alt=\"Open In Colab\"/></a>"
      ]
    },
    {
      "cell_type": "markdown",
      "source": [
        "# Mission 1"
      ],
      "metadata": {
        "id": "Y-fEMIDQ3Vwg"
      }
    },
    {
      "cell_type": "markdown",
      "metadata": {
        "id": "wruMhTKTx-_T"
      },
      "source": [
        "What's the lenght of the following string ?"
      ]
    },
    {
      "cell_type": "code",
      "metadata": {
        "id": "oweHYwlm1EVo",
        "colab": {
          "base_uri": "https://localhost:8080/"
        },
        "outputId": "2ca4940c-58b9-4f14-bda0-dc328b140f11"
      },
      "source": [
        "s = \"Taumata whakatangihanga koauau o tamatea turi pukaka piki maungah oronuku pokai whenuaki tanatahu \"\n",
        "len(s)\n"
      ],
      "execution_count": null,
      "outputs": [
        {
          "output_type": "execute_result",
          "data": {
            "text/plain": [
              "98"
            ]
          },
          "metadata": {},
          "execution_count": 2
        }
      ]
    },
    {
      "cell_type": "markdown",
      "source": [
        "Now, count only non-space characters and display how many there is.\n",
        "Remember, using a for loop on a string will browse all the individual characters of it!"
      ],
      "metadata": {
        "id": "5dmVxxN_j4Dh"
      }
    },
    {
      "cell_type": "markdown",
      "source": [],
      "metadata": {
        "id": "x61RqCOlhAsW"
      }
    },
    {
      "cell_type": "code",
      "metadata": {
        "id": "ze_3CDrJx9re",
        "colab": {
          "base_uri": "https://localhost:8080/"
        },
        "outputId": "3606e8d5-a398-42ad-b222-060ebd97aa07"
      },
      "source": [
        "### Solution with loop\n",
        "\n",
        "# We create a counter variable, which starts at zero\n",
        "non_spaces = 0\n",
        "for character in s:\n",
        "  # For each character, if it's not a space, we add one to the counter\n",
        "  if character != ' ':\n",
        "    non_spaces += 1\n",
        "\n",
        "# When the loop is done, we checked all the characters\n",
        "print(non_spaces)\n"
      ],
      "execution_count": null,
      "outputs": [
        {
          "output_type": "stream",
          "name": "stdout",
          "text": [
            "85\n"
          ]
        }
      ]
    },
    {
      "cell_type": "code",
      "source": [
        "### Solution without loop\n",
        "\n",
        "# The string method \"count\"  counts how many times a character appears\n",
        "print(len(s) - s.count(' '))"
      ],
      "metadata": {
        "id": "Z62hph_9jw7f"
      },
      "execution_count": null,
      "outputs": []
    },
    {
      "cell_type": "markdown",
      "metadata": {
        "id": "2BSzzT3_DDOK"
      },
      "source": [
        "# Mission 2\n",
        "\n",
        "Ask the user for a string, then for a character (we assume user input follows the rules). Then, display the positions, **starting with 1**, of all occurrences of the character within the string.\n",
        "\n",
        "For example, for the word \"welcome\" and for the character \"e\", the script will display:\n",
        "```\n",
        "position: 2\n",
        "position: 7\n",
        "```"
      ]
    },
    {
      "cell_type": "code",
      "source": [
        "\n",
        "# We ask for a string and a character\n",
        "source = input('Please enter a string: ')\n",
        "target = input('Please enter a single character: ')\n",
        "\n",
        "# We iterate on the string, with a position counter starting at one\n",
        "position = 1\n",
        "for character in source:\n",
        "  if character == target:\n",
        "    # If the current character matches, display the current position\n",
        "    print('position:', position)\n",
        "  # Increment the counter for the next iteration\n",
        "  position += 1"
      ],
      "metadata": {
        "id": "7yVoo4wUkN38"
      },
      "execution_count": null,
      "outputs": []
    },
    {
      "cell_type": "code",
      "source": [
        "# ou bien\n",
        "input_string = input(\"Entrez du texte : \")\n",
        "lettre_entrer = input(\"Entrez la lettre que vous voulez compter : \")\n",
        "for position,lettre in enumerate(input_string):\n",
        "   if lettre == lettre_entrer:\n",
        "      print(position+1)\n",
        "\n"
      ],
      "metadata": {
        "id": "9H0Zc9cewZCS",
        "colab": {
          "base_uri": "https://localhost:8080/"
        },
        "outputId": "681988c9-eb46-4aa8-90a7-a1d927e1e6e7"
      },
      "execution_count": null,
      "outputs": [
        {
          "output_type": "stream",
          "name": "stdout",
          "text": [
            "Entrez du texte : welcome\n",
            "Entrez la lettre que vous voulez compter : e\n",
            "2\n",
            "7\n"
          ]
        }
      ]
    },
    {
      "cell_type": "markdown",
      "metadata": {
        "id": "pLZi_mgzFvMP"
      },
      "source": [
        "# Mission 3\n",
        "\n",
        "Ask the user for a string, then for an integer. Then, display the string repeated as many times as the given integer.\n",
        "\n",
        "For example, `badger` and `4` will display `badgerbadgerbadgerbadger`"
      ]
    },
    {
      "cell_type": "code",
      "source": [
        "input_string = input(\"entrer une chaine de character : \")\n",
        "input_integer = int(input(\"maintenent entrer un integer : \"))\n",
        "for i in range(input_integer):\n",
        "  print(input_string)"
      ],
      "metadata": {
        "id": "CYWu-AM3OSRG",
        "colab": {
          "base_uri": "https://localhost:8080/"
        },
        "outputId": "c50d7977-b9aa-41fe-e795-b4b13b705287"
      },
      "execution_count": null,
      "outputs": [
        {
          "output_type": "stream",
          "name": "stdout",
          "text": [
            "entrer une chaine de character : hi\n",
            "maintenent entrer un integer : 4\n",
            "hi\n",
            "hi\n",
            "hi\n",
            "hi\n"
          ]
        }
      ]
    },
    {
      "cell_type": "markdown",
      "metadata": {
        "id": "GCvpkWzXXPTf"
      },
      "source": [
        "# Mission 4\n",
        "\n",
        "Display the following string without including the spaces at the beginning and end. There's a `string` method that does exactly that, look at the documentation!"
      ]
    },
    {
      "cell_type": "code",
      "metadata": {
        "id": "KZT8AIPF0ery",
        "colab": {
          "base_uri": "https://localhost:8080/",
          "height": 36
        },
        "outputId": "b17a9efe-2a9f-4f93-94df-9ff23655669d"
      },
      "source": [
        "s = \"   Data Analyst  \"\n",
        "s.strip()"
      ],
      "execution_count": null,
      "outputs": [
        {
          "output_type": "execute_result",
          "data": {
            "text/plain": [
              "'Data Analyst'"
            ],
            "application/vnd.google.colaboratory.intrinsic+json": {
              "type": "string"
            }
          },
          "metadata": {},
          "execution_count": 7
        }
      ]
    },
    {
      "cell_type": "markdown",
      "metadata": {
        "id": "geMLdrvAYHKx"
      },
      "source": [
        "# Mission 5\n",
        "\n",
        "Ask the user for a string, then for a character, then for another character.\n",
        "\n",
        "Then, display the string where the occurences of the first character are replaced by the second one.  \n",
        "For example:\n",
        "* string = `\"Boulgour\"`  \n",
        "* 1st_char = `\"g\"`\n",
        "* 2nd_char = `\"v\"`\n",
        "\n",
        "Result : `\"Boulvour\"`"
      ]
    },
    {
      "cell_type": "code",
      "source": [
        "### Solution\n",
        "source = input('Please enter a string: ')\n",
        "first = input('Please enter a single character: ')\n",
        "second = input('Please enter another character: ')\n",
        "\n",
        "# We build a result string, one character by one. It starts empty!\n",
        "result = ''\n",
        "for character in source:\n",
        "  # Going through all characters in the original string...\n",
        "  if character == first:\n",
        "    # ... if it's the character to replace, put its replacement in the result\n",
        "    result += second\n",
        "  else:\n",
        "    # ... if not, put the original character in the result\n",
        "    result += character\n",
        "\n",
        "print(result)"
      ],
      "metadata": {
        "id": "gGvK4X49OW0g",
        "colab": {
          "base_uri": "https://localhost:8080/"
        },
        "outputId": "389d654f-521f-499b-f2a1-19be49c403fa"
      },
      "execution_count": null,
      "outputs": [
        {
          "output_type": "stream",
          "name": "stdout",
          "text": [
            "entrer une chaine de character : boulgour\n",
            "maintenent entrer un 1er character : g\n",
            "maintenent entrer un 2eme character : v\n",
            "boulvour\n"
          ]
        }
      ]
    },
    {
      "cell_type": "code",
      "source": [
        "### Solution without loop\n",
        "source = input('Please enter a string: ')\n",
        "first = input('Please enter a single character: ')\n",
        "second = input('Please enter another character: ')\n",
        "\n",
        "result = source.replace(first, second)\n",
        "\n",
        "print(result)"
      ],
      "metadata": {
        "id": "SNPV4TQgkvsx"
      },
      "execution_count": null,
      "outputs": []
    },
    {
      "cell_type": "markdown",
      "metadata": {
        "id": "V8ZS3aECXvuZ"
      },
      "source": [
        "# Mission 6\n",
        "\n",
        "Ask the user for a string. Then, display the same string with all vowels converted to uppercase, and all consonants converted to lowercase.  \n",
        "For example:\n",
        "* string = `\"Papa's got a brand new bag\"`  \n",
        "Result : `\"pApA's gOt A brAnd nEw bAg\"`\n"
      ]
    },
    {
      "cell_type": "code",
      "source": [
        "input_string = input(\"entre une chaine de charcter : \").lower()\n",
        "lettre_majuscule = \"\"\n",
        "for lettre in input_string:\n",
        "   if lettre in \"aeiouy\":\n",
        "      lettre_majuscule += lettre.upper()\n",
        "   else:\n",
        "      lettre_majuscule += lettre\n",
        "print(lettre_majuscule)\n",
        "\n"
      ],
      "metadata": {
        "id": "1ZyvW4vDy8J5",
        "colab": {
          "base_uri": "https://localhost:8080/"
        },
        "outputId": "6424f17a-d173-47f1-e0b2-c64c819febfe"
      },
      "execution_count": null,
      "outputs": [
        {
          "output_type": "stream",
          "name": "stdout",
          "text": [
            "entre une chaine de charcter : papa got\n",
            "pApA gOt\n"
          ]
        }
      ]
    }
  ]
}
