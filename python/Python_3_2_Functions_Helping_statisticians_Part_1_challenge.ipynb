{
  "nbformat": 4,
  "nbformat_minor": 0,
  "metadata": {
    "colab": {
      "provenance": [],
      "include_colab_link": true
    },
    "kernelspec": {
      "name": "python3",
      "display_name": "Python 3"
    }
  },
  "cells": [
    {
      "cell_type": "markdown",
      "metadata": {
        "id": "view-in-github",
        "colab_type": "text"
      },
      "source": [
        "<a href=\"https://colab.research.google.com/github/chouat2207/Python/blob/main/Python_3_2_Functions_Helping_statisticians_Part_1_challenge.ipynb\" target=\"_parent\"><img src=\"https://colab.research.google.com/assets/colab-badge.svg\" alt=\"Open In Colab\"/></a>"
      ]
    },
    {
      "cell_type": "markdown",
      "metadata": {
        "id": "co2X9cGIieV0"
      },
      "source": [
        "# Help for statisticians!\n",
        "\n",
        "Your fellow statisticians need you. They want to learn how to program in Python and have tons of calculations to do.\n",
        "\n",
        "Very kindly, you agree to help them. Complete the missions below."
      ]
    },
    {
      "cell_type": "markdown",
      "metadata": {
        "id": "rvnKhKV7CVoS"
      },
      "source": [
        "![Einstien le génie](https://wallup.net/wp-content/uploads/2018/09/30/201016-funny-albert-einstein-748x468.jpg)"
      ]
    },
    {
      "cell_type": "code",
      "metadata": {
        "id": "S4jmbgw-kWcj"
      },
      "source": [
        "# Mission 1: Create a function, that simply returns the string \"Hello Python\"\n"
      ],
      "execution_count": null,
      "outputs": []
    },
    {
      "cell_type": "code",
      "source": [
        "def hello_fonction():\n",
        "  return \"Hello Python\"\n",
        "hello_fonction()"
      ],
      "metadata": {
        "id": "tE2pvJ5u7TEk",
        "colab": {
          "base_uri": "https://localhost:8080/",
          "height": 36
        },
        "outputId": "cb79d90f-cccb-4456-c1a6-03ab391b94c3"
      },
      "execution_count": null,
      "outputs": [
        {
          "output_type": "execute_result",
          "data": {
            "text/plain": [
              "'Hello Python'"
            ],
            "application/vnd.google.colaboratory.intrinsic+json": {
              "type": "string"
            }
          },
          "metadata": {},
          "execution_count": 1
        }
      ]
    },
    {
      "cell_type": "code",
      "metadata": {
        "id": "4rJVUEkNk5Oo"
      },
      "source": [
        "# Mission 2: Create a function that takes in 2 numbers as parameters, and returns a boolean indicating whether or not they are equal\n"
      ],
      "execution_count": null,
      "outputs": []
    },
    {
      "cell_type": "code",
      "source": [
        "def bool_fonction(number_1, number_2):\n",
        "  if number_1 == number_2:\n",
        "    return True\n",
        "  else:\n",
        "    return False\n",
        "bool_fonction(3, 3)"
      ],
      "metadata": {
        "id": "VgbmpHFwExE0",
        "colab": {
          "base_uri": "https://localhost:8080/"
        },
        "outputId": "2fd581cd-5285-4c86-cde5-790986913787"
      },
      "execution_count": null,
      "outputs": [
        {
          "output_type": "execute_result",
          "data": {
            "text/plain": [
              "False"
            ]
          },
          "metadata": {},
          "execution_count": 2
        }
      ]
    },
    {
      "cell_type": "code",
      "metadata": {
        "id": "Q9X4m3D4h-xu"
      },
      "source": [
        "# Mission 3: Create a function that takes a number as parameter, and returns the first 10 multiples of the number as a list\n",
        "# Example: 2 -> [2, 4, 6, 8, 10, 12, 14, 16, 18, 20]"
      ],
      "execution_count": null,
      "outputs": []
    },
    {
      "cell_type": "code",
      "source": [
        "def multiplication(number):\n",
        "  liste_of_number= []\n",
        "  for i in range(1,11):\n",
        "    liste_of_number.append(number * i)\n",
        "  return liste_of_number\n",
        "multiplication(2)"
      ],
      "metadata": {
        "id": "rlM5Yh7PFBLf",
        "colab": {
          "base_uri": "https://localhost:8080/"
        },
        "outputId": "ca8c7e11-891e-4726-ac12-1234d260384d"
      },
      "execution_count": null,
      "outputs": [
        {
          "output_type": "execute_result",
          "data": {
            "text/plain": [
              "[2, 4, 6, 8, 10, 12, 14, 16, 18, 20]"
            ]
          },
          "metadata": {},
          "execution_count": 5
        }
      ]
    },
    {
      "cell_type": "code",
      "metadata": {
        "id": "Fe9kZrvklI0b"
      },
      "source": [
        "# Mission 4: Create a function that takes a string as input, and return its vowels only, preserving case.\n",
        "# Example: \"Antidisestablishmentarianism\" -> \"Aiieaieaiai\"\n",
        "# Example: \"TO BE OR NOT TO BE\" -> \"OEOOOE\"\n"
      ],
      "execution_count": null,
      "outputs": []
    },
    {
      "cell_type": "code",
      "source": [
        "\n",
        "# def string_function():\n",
        "#   sentence = input(\"enter your sentance here: \")\n",
        "#   liste_of_voyel = [\"a\", \"e\", \"u\", \"o\", \"y\", \"A\", \"O\", \"U\", \"E\", \"Y\"]\n",
        "#   number_of_voyel = []\n",
        "#   i=0\n",
        "#   for i in range(len(sentence)):\n",
        "#    if sentence[i] in liste_of_voyel:\n",
        "#       number_of_voyel.append(sentence[i])\n",
        "#       i+=1\n",
        "#       chaine = \" \".join(number_of_voyel)\n",
        "#   return chaine\n",
        "# string_function()\n",
        "print(ord(\"A\"))"
      ],
      "metadata": {
        "id": "M3QVVr48FsVL",
        "colab": {
          "base_uri": "https://localhost:8080/"
        },
        "outputId": "f6a8cb0c-09aa-4100-ca12-99922fed59a6"
      },
      "execution_count": null,
      "outputs": [
        {
          "output_type": "stream",
          "name": "stdout",
          "text": [
            "65\n"
          ]
        }
      ]
    },
    {
      "cell_type": "code",
      "metadata": {
        "id": "7b3JtuNClm4a"
      },
      "source": [
        "# Mission 5: Create a function that takes 2 numbers as parameters, and returns the result of a division operation.\n",
        "# Test if the denominator is equal to 0 and if so, display a message that says: \"You can't divide by zero\".\n"
      ],
      "execution_count": null,
      "outputs": []
    },
    {
      "cell_type": "code",
      "source": [
        "def division_function(number_1, number_2):\n",
        "\n",
        "  if number_2 == 0:\n",
        "    print( \"you can't divise by zero\")\n",
        "  else:\n",
        "    division_number = number_1 / number_2\n",
        "    return division_number\n",
        "division_function(5, 5)\n",
        "\n"
      ],
      "metadata": {
        "colab": {
          "base_uri": "https://localhost:8080/"
        },
        "id": "ZLW3nv0QBL4W",
        "outputId": "59aade37-317d-4f10-deb6-eb06a7560e8f"
      },
      "execution_count": null,
      "outputs": [
        {
          "output_type": "execute_result",
          "data": {
            "text/plain": [
              "1.0"
            ]
          },
          "metadata": {},
          "execution_count": 17
        }
      ]
    },
    {
      "cell_type": "code",
      "metadata": {
        "id": "6hjrrDyUlN8o"
      },
      "source": [
        "# Mission 6: First, choose two arithmetical operations (such as +, -, *, or /)\n",
        "# Then, create a function that takes in 3 numbers as parameters and carries out those operations, displays a message indicating if the result is positive, negative or zero, and finally returns the result.\n",
        "# If a division by zero is attempted, display an error message.\n",
        "\n",
        "# Example with multiplication and addition:\n",
        "# Calling with 0, 32, 2 will compute (0*32)+2, will display \"Positive result\", and return 2\n",
        "\n",
        "# Example with division and addition:\n",
        "# Calling with 21, 0, 3 will try to compute (21/0)+2, will display \"Divide-by-zero error\"\n"
      ],
      "execution_count": null,
      "outputs": []
    },
    {
      "cell_type": "code",
      "source": [
        "def calcul_function(number_one, number_two, number_three):\n",
        "\n",
        "    operation_1 = input(\"Enter your first operation (+, -, *, /): \").strip()\n",
        "    operation_2 = input(\"Enter your second operation (+, -, *, /): \").strip()\n",
        "    valid_operations = {\"+\", \"-\", \"*\", \"/\"}\n",
        "    if operation_1 not in valid_operations or operation_2 not in valid_operations:\n",
        "        return \"Invalid operation entered. Please use only +, -, *, or /.\"\n",
        "\n",
        "    # Gestion de la division par zéro\n",
        "    if operation_1 == \"/\" and number_two == 0:\n",
        "        return \"Error: You can't divide by zero in the first operation.\"\n",
        "    if operation_2 == \"/\" and number_three == 0:\n",
        "        return \"Error: You can't divide by zero in the second operation.\"\n",
        "\n",
        "    # Effectuer la première opération\n",
        "    if operation_1 == \"+\":\n",
        "        intermediate_result = number_one + number_two\n",
        "    elif operation_1 == \"-\":\n",
        "        intermediate_result = number_one - number_two\n",
        "    elif operation_1 == \"*\":\n",
        "        intermediate_result = number_one * number_two\n",
        "    elif operation_1 == \"/\":\n",
        "        intermediate_result = number_one / number_two\n",
        "\n",
        "    # Effectuer la deuxième opération\n",
        "    if operation_2 == \"+\":\n",
        "        final_result = intermediate_result + number_three\n",
        "    elif operation_2 == \"-\":\n",
        "        final_result = intermediate_result - number_three\n",
        "    elif operation_2 == \"*\":\n",
        "        final_result = intermediate_result * number_three\n",
        "    elif operation_2 == \"/\":\n",
        "        final_result = intermediate_result / number_three\n",
        "\n",
        "    # Déterminer la nature du résultat\n",
        "    if final_result > 0:\n",
        "        message = \"Positive result\"\n",
        "    elif final_result < 0:\n",
        "        message = \"Negative result\"\n",
        "    else:\n",
        "        message = \"Result is zero\"\n",
        "\n",
        "    return f\"{message}, final result: {final_result}\"\n",
        "\n",
        "\n",
        "result = calcul_function(3, 2, 5)\n",
        "print(result)"
      ],
      "metadata": {
        "colab": {
          "base_uri": "https://localhost:8080/"
        },
        "id": "C0a_5nDfVeUC",
        "outputId": "786e84d7-c244-439e-fd67-30abb6218dc3"
      },
      "execution_count": null,
      "outputs": [
        {
          "output_type": "stream",
          "name": "stdout",
          "text": [
            "Enter your first operation (+, -, *, /): +\n",
            "Enter your second operation (+, -, *, /): +\n",
            "Positive result, final result: 10\n"
          ]
        }
      ]
    },
    {
      "cell_type": "code",
      "metadata": {
        "id": "r6DP6oTDmqfs"
      },
      "source": [
        "# Mission 7: Create a function that takes a number as a parameter that corresponds to gross salary and returns the net salary for executives.\n",
        "# You can specify any amount of deductions, or base them on your country's example\n"
      ],
      "execution_count": null,
      "outputs": []
    },
    {
      "cell_type": "code",
      "source": [
        "def salary_function(gross_salary):\n",
        "    amount = 0.2\n",
        "    tax_deduction = gross_salary * amount  # 20% de déduction\n",
        "    net_salary = gross_salary - tax_deduction  # Salaire net après la déduction des taxes\n",
        "    return net_salary\n",
        "salary_function(1500)"
      ],
      "metadata": {
        "id": "L_DsOazcPL9A",
        "colab": {
          "base_uri": "https://localhost:8080/"
        },
        "outputId": "e92667b1-76f5-476b-beea-20e5c2f9ae79"
      },
      "execution_count": null,
      "outputs": [
        {
          "output_type": "execute_result",
          "data": {
            "text/plain": [
              "1200.0"
            ]
          },
          "metadata": {},
          "execution_count": 21
        }
      ]
    },
    {
      "cell_type": "code",
      "metadata": {
        "id": "T57txpOLjVXv"
      },
      "source": [
        "# Mission 8: Create a function that can swap the values of any two variables, such as if variable A = 1 and variable B = 2, after applying the function, variable A = 2 and B = 1"
      ],
      "execution_count": null,
      "outputs": []
    },
    {
      "cell_type": "code",
      "source": [
        "def addition(a, b=5):\n",
        "    return a + b\n",
        "\n",
        "print(addition(10))"
      ],
      "metadata": {
        "colab": {
          "base_uri": "https://localhost:8080/"
        },
        "id": "T54eFJqnYZtN",
        "outputId": "620bab89-9fb3-4f02-8739-6a22ca329e5f"
      },
      "execution_count": null,
      "outputs": [
        {
          "output_type": "stream",
          "name": "stdout",
          "text": [
            "15\n"
          ]
        }
      ]
    },
    {
      "cell_type": "code",
      "metadata": {
        "id": "Qhlq9Dmukdhp",
        "colab": {
          "base_uri": "https://localhost:8080/"
        },
        "outputId": "00974ca5-97b1-4cec-82ee-3227b9e49b34"
      },
      "source": [
        "def reverse(a, b):\n",
        "  return b, a\n",
        "reverse(3,5)\n"
      ],
      "execution_count": null,
      "outputs": [
        {
          "output_type": "execute_result",
          "data": {
            "text/plain": [
              "(5, 3)"
            ]
          },
          "metadata": {},
          "execution_count": 20
        }
      ]
    },
    {
      "cell_type": "code",
      "metadata": {
        "id": "JDtpZ_1rkZSl"
      },
      "source": [],
      "execution_count": null,
      "outputs": []
    },
    {
      "cell_type": "markdown",
      "source": [],
      "metadata": {
        "id": "luK7wJDOpHIf"
      }
    }
  ]
}
