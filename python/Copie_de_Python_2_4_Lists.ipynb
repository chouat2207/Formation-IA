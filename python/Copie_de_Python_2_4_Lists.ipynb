{
  "nbformat": 4,
  "nbformat_minor": 0,
  "metadata": {
    "colab": {
      "provenance": [],
      "include_colab_link": true
    },
    "kernelspec": {
      "name": "python3",
      "display_name": "Python 3"
    }
  },
  "cells": [
    {
      "cell_type": "markdown",
      "metadata": {
        "id": "view-in-github",
        "colab_type": "text"
      },
      "source": [
        "<a href=\"https://colab.research.google.com/github/chouat2207/Python/blob/main/Copie_de_Python_2_4_Lists.ipynb\" target=\"_parent\"><img src=\"https://colab.research.google.com/assets/colab-badge.svg\" alt=\"Open In Colab\"/></a>"
      ]
    },
    {
      "cell_type": "markdown",
      "source": [
        "**Preliminary note:** sometimes, the challenge tells you to do something that is incompatible with some input (for instance, you ask for a position but the user enters some text, or an invalid number).\n",
        "\n",
        "Here you can assume that all user input goes according to plan (the \"happy path\"). If you want an extra **optional** challenge, feel free to manage possible error cases!"
      ],
      "metadata": {
        "id": "1LeJKHt8Hd9O"
      }
    },
    {
      "cell_type": "markdown",
      "metadata": {
        "id": "LoJw-LlCTnWF"
      },
      "source": [
        "# Mission 1\n",
        "\n",
        "Define a list, then display only the elements (and their position) that have even positions (0, 2, 4, 6...).\n",
        "\n",
        "With `test_list = [\"a\", \"b\", \"c\", \"d\", \"e\"]`, the script should display:\n",
        "```\n",
        "a at position 0\n",
        "c at position 2\n",
        "e at position 4\n",
        "```"
      ]
    },
    {
      "cell_type": "code",
      "metadata": {
        "id": "C2Lk113KSPUO",
        "colab": {
          "base_uri": "https://localhost:8080/"
        },
        "outputId": "8657349e-cc3b-4734-9369-2ca6c3e1be0b"
      },
      "source": [
        "test_list = [\"a\", \"b\", \"c\", \"d\", \"e\"]\n",
        "for i, val in enumerate(test_list):\n",
        "    if i % 2 == 0:\n",
        "      print (val ,\"at position \", i )\n",
        "# Your code here"
      ],
      "execution_count": null,
      "outputs": [
        {
          "output_type": "stream",
          "name": "stdout",
          "text": [
            "a at position  0\n",
            "c at position  2\n",
            "e at position  4\n"
          ]
        }
      ]
    },
    {
      "cell_type": "markdown",
      "metadata": {
        "id": "J3bsGIvAT049"
      },
      "source": [
        "# Mission 2\n",
        "\n",
        "Define a list, then **ask** for a position, then for a string. Then replace the list element at that position by the given string, and display the resulting list.\n",
        "\n",
        "For example, with the list `test_list2 = ['hello', 'good morning', 'bye bye', 'have a good day']`, the position `2` and the string `yeah`, you should display:\n",
        "```\n",
        "['hello', 'good morning', 'yeah', 'have a good day']\n",
        "```"
      ]
    },
    {
      "cell_type": "code",
      "metadata": {
        "id": "Fy1OmPSUXNaP",
        "colab": {
          "base_uri": "https://localhost:8080/"
        },
        "outputId": "13be562b-7a1f-4cb1-b63f-7b9f08dc70c9"
      },
      "source": [
        "test_list2 = ['hello', 'good morning', 'bye bye', 'have a good day']\n",
        "test_list2.index(\"bye bye\")\n",
        "test_list2[2]\n",
        "test_list2[2] = \"yeah\"\n",
        "test_list2"
      ],
      "execution_count": null,
      "outputs": [
        {
          "output_type": "execute_result",
          "data": {
            "text/plain": [
              "['hello', 'good morning', 'yeah', 'have a good day']"
            ]
          },
          "metadata": {},
          "execution_count": 6
        }
      ]
    },
    {
      "cell_type": "code",
      "source": [
        "# another solution , Defensive solution\n",
        "test_list2 = ['hello', 'good morning', 'bye bye', 'have a good day']\n",
        "\n",
        "try:\n",
        "  position = int(input(\"Position? > \"))\n",
        "except ValueError:\n",
        "  print('Please enter a number!')\n",
        "else:\n",
        "  if position < 0 or position >= len(test_list2):\n",
        "    print('Please enter a valid position!')\n",
        "  else:\n",
        "    repl = input(\"Replacement? > \")\n",
        "    test_list2[position] = repl\n",
        "    print(test_list2)"
      ],
      "metadata": {
        "id": "eDB1jVtBnEww"
      },
      "execution_count": null,
      "outputs": []
    },
    {
      "cell_type": "markdown",
      "metadata": {
        "id": "dVl36lvlWLdV"
      },
      "source": [
        "# Mission 3\n",
        "\n",
        "Define a list with five numbers, then ask the user for a number. Put the number at the end of the list, remove the first element from the list, and finally display the list.\n",
        "\n",
        "For example, with the list `test_list3 = [1, 9, 6, 15, 4]` and the input `7`, you should display:\n",
        "```\n",
        "[9, 6, 15, 4, 7]\n",
        "```\n"
      ]
    },
    {
      "cell_type": "code",
      "metadata": {
        "id": "pN3_mD4YSPfb",
        "colab": {
          "base_uri": "https://localhost:8080/"
        },
        "outputId": "c43bb931-306c-4bd7-9417-b5acf14f7025"
      },
      "source": [
        "test_list3 = [1, 9, 6, 15, 4]\n",
        "5 in test_list3\n",
        "test_list3.append(7)\n",
        "test_list3.pop(0)\n",
        "test_list3"
      ],
      "execution_count": null,
      "outputs": [
        {
          "output_type": "execute_result",
          "data": {
            "text/plain": [
              "[9, 6, 15, 4, 7]"
            ]
          },
          "metadata": {},
          "execution_count": 12
        }
      ]
    },
    {
      "cell_type": "markdown",
      "metadata": {
        "id": "GCvpkWzXXPTf"
      },
      "source": [
        "# Mission 4\n",
        "\n",
        "Define a list, then ask the user for a string. Then, insert the string in the list at a random position, and display the resulting list.\n",
        "\n",
        "For example, with the list `test_list4 = [\"p\", \"y\", \"t\", \"h\", \"o\"]` and the input `n`, you *might* get:\n",
        "```\n",
        "[\"p\", \"n\", \"y\", \"t\", \"h\", \"o\"]\n",
        "```\n",
        "... but you might also get:\n",
        "```\n",
        "[\"p\", \"y\", \"t\", \"n\", \"h\", \"o\"]\n",
        "```\n"
      ]
    },
    {
      "cell_type": "code",
      "metadata": {
        "id": "QjLMjogySPk_",
        "colab": {
          "base_uri": "https://localhost:8080/"
        },
        "outputId": "edf98a22-be5b-462b-80ce-2a5455263f3b"
      },
      "source": [
        "import random\n",
        "test_list4 = [\"p\", \"y\", \"t\", \"h\", \"o\"]\n",
        "\"t\" in test_list4\n",
        "test_list4.insert(random.randrange(len(test_list4)), \"n\")\n",
        "test_list4"
      ],
      "execution_count": null,
      "outputs": [
        {
          "output_type": "execute_result",
          "data": {
            "text/plain": [
              "['p', 'y', 't', 'h', 'n', 'o']"
            ]
          },
          "metadata": {},
          "execution_count": 19
        }
      ]
    },
    {
      "cell_type": "markdown",
      "metadata": {
        "id": "Ygonr8C4pEgg"
      },
      "source": [
        "# Mission 5\n",
        "\n",
        "Create a list of integers. Then, display a list with the elements ordered from smallest to largest, using the right built-in function.\n",
        "\n",
        "With the list `test_list5 = [3, 4, 0, -1, 35, 7]`, this will display:\n",
        "```\n",
        "[-1, 0, 3, 4, 7, 35]\n",
        "```"
      ]
    },
    {
      "cell_type": "code",
      "source": [
        "test_list5 = [3, 4, 0, -1, 35, 7]\n",
        "test_list5.sort()\n",
        "test_list5"
      ],
      "metadata": {
        "id": "KYW-riV7K3DA",
        "colab": {
          "base_uri": "https://localhost:8080/"
        },
        "outputId": "932de1b9-7300-441d-c85c-628a73f94969"
      },
      "execution_count": null,
      "outputs": [
        {
          "output_type": "execute_result",
          "data": {
            "text/plain": [
              "[-1, 0, 3, 4, 7, 35]"
            ]
          },
          "metadata": {},
          "execution_count": 22
        }
      ]
    },
    {
      "cell_type": "code",
      "source": [
        "# another solution\n",
        "test_list5 = [3, 4, 0, -1, 35, 7]\n",
        "\n",
        "print(sorted(test_list5))"
      ],
      "metadata": {
        "id": "DFRtKenTnW9M"
      },
      "execution_count": null,
      "outputs": []
    },
    {
      "cell_type": "markdown",
      "metadata": {
        "id": "V8ZS3aECXvuZ"
      },
      "source": [
        "# Mission 6\n",
        "\n",
        "Ask the user for a string, convert it to a list of characters with the `list` function, then ask for a single character.\n",
        "\n",
        "Remove the first occurrence of the character from the list, then display how many occurrences of the character remain in the list.\n",
        "\n",
        "For instance if you enter `\"Excellent work\"` then the letter `\"e\"`, it will display:\n",
        "```\n",
        "There are still 2 copies of e in the list\n",
        "```"
      ]
    },
    {
      "cell_type": "code",
      "metadata": {
        "id": "dlRdqxco5r8U",
        "colab": {
          "base_uri": "https://localhost:8080/"
        },
        "outputId": "e1a2701b-587d-4358-8d98-5bd7141c3025"
      },
      "source": [
        "user_string = input(\"Enter a string :\")\n",
        "list_strings = list(user_string)\n",
        "print(list_strings)\n",
        "user_caracter = input(\"Enter a character :\")\n",
        "list_strings.remove(user_caracter)\n",
        "print(list_strings)"
      ],
      "execution_count": null,
      "outputs": [
        {
          "output_type": "stream",
          "name": "stdout",
          "text": [
            "Enter a string :exexe\n",
            "['e', 'x', 'e', 'x', 'e']\n",
            "Enter a character :e\n",
            "['x', 'e', 'x', 'e']\n"
          ]
        }
      ]
    },
    {
      "cell_type": "code",
      "source": [
        "# anathoer solution\n",
        "characters = list(input(\"Please provide a string: \").lower())\n",
        "target = input(\"Please provide a character from the string chosen above: \")\n",
        "\n",
        "if target in characters:\n",
        "  characters.remove(target)\n",
        "  c_char = characters.count(target)\n",
        "  if c_char == 0:\n",
        "    print('There are no copies of', target, 'left in the list')\n",
        "  elif c_char == 1:\n",
        "    print('There is still one copy of', target, 'in the list')\n",
        "  else:\n",
        "    print('There are still', c_char, 'copies of', target, 'left in the list')\n",
        "else :\n",
        "  print(\"la lettre n'est pas présente dans la phrase\")"
      ],
      "metadata": {
        "id": "EDrsf_15nmjJ"
      },
      "execution_count": null,
      "outputs": []
    },
    {
      "cell_type": "markdown",
      "metadata": {
        "id": "geMLdrvAYHKx"
      },
      "source": [
        "# Mission 7\n",
        "\n",
        "Define three lists containing no duplicates. Then, indicate (however you like) the two that have the most elements in common (or all three if there's a tie).\n",
        "\n",
        "For instance, with:\n",
        "```\n",
        "list_a = [1, 2, 4, 8, 16, 32]\n",
        "list_b = [1, 2, 3, 5, 8, 13]\n",
        "list_c = [2, 3, 5, 7, 11, 13]\n",
        "```\n",
        "It may display:\n",
        "```\n",
        "Lists B and C have the most common elements!\n",
        "```"
      ]
    },
    {
      "cell_type": "code",
      "source": [
        "list_a = [1, 2, 4, 8, 16, 32]\n",
        "list_b = [1, 2, 3, 5, 8, 13]\n",
        "list_c = [2, 3, 5, 7, 11, 13]\n",
        "common_elements_a_b = []\n",
        "common_elements_a_c = []\n",
        "common_elements_b_c = []\n",
        "for element in list_a:\n",
        "    if element in list_b:\n",
        "        common_elements_a_b.append(element)\n",
        "for element in list_a:\n",
        "    if element in list_c:\n",
        "        common_elements_a_c.append(element)\n",
        "for element in list_b:\n",
        "    if element in list_c:\n",
        "        common_elements_b_c.append(element)\n",
        "print(common_elements_a_b)\n",
        "print(common_elements_a_c)\n",
        "print(common_elements_b_c)\n",
        "\n",
        "len_a_b = len(common_elements_a_b)\n",
        "len_a_c = len(common_elements_a_c)\n",
        "len_b_c = len(common_elements_b_c)\n",
        "\n",
        "if len_a_b > len_a_c and len_a_b > len_b_c:\n",
        "    print(\"list_a and list_b have the most common elements!\")\n",
        "elif len_a_c > len_a_b and len_a_c > len_b_c:\n",
        "    print(\"list_a and list_c have the most common elements!\")\n",
        "elif len_b_c > len_a_b and len_b_c > len_a_c:\n",
        "    print(\"list_b and list_c have the most common elements!\")\n",
        "else:\n",
        "    print(\"all three if there's a tie.\")"
      ],
      "metadata": {
        "colab": {
          "base_uri": "https://localhost:8080/"
        },
        "id": "16Gn8F7C4-W8",
        "outputId": "c1391c4c-92de-445f-814b-e2bc6fa2807d"
      },
      "execution_count": null,
      "outputs": [
        {
          "output_type": "stream",
          "name": "stdout",
          "text": [
            "[1, 2, 8]\n",
            "[2]\n",
            "[2, 3, 5, 13]\n",
            "list_b and list_c have the most common elements!\n"
          ]
        }
      ]
    }
  ]
}
