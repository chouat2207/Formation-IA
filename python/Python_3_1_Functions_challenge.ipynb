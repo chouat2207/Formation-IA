{
  "nbformat": 4,
  "nbformat_minor": 0,
  "metadata": {
    "colab": {
      "provenance": [],
      "include_colab_link": true
    },
    "kernelspec": {
      "name": "python3",
      "display_name": "Python 3"
    },
    "language_info": {
      "name": "python"
    }
  },
  "cells": [
    {
      "cell_type": "markdown",
      "metadata": {
        "id": "view-in-github",
        "colab_type": "text"
      },
      "source": [
        "<a href=\"https://colab.research.google.com/github/chouat2207/Python/blob/main/Python_3_1_Functions_challenge.ipynb\" target=\"_parent\"><img src=\"https://colab.research.google.com/assets/colab-badge.svg\" alt=\"Open In Colab\"/></a>"
      ]
    },
    {
      "cell_type": "markdown",
      "source": [
        "# Mission 1"
      ],
      "metadata": {
        "id": "wcVz1afOARJ_"
      }
    },
    {
      "cell_type": "markdown",
      "source": [
        "Create a function that returns the sum of 3 + 3 when executed.  \n",
        "You must use the `return` statement."
      ],
      "metadata": {
        "id": "m5NmUj_rATHM"
      }
    },
    {
      "cell_type": "code",
      "source": [
        "def sum_number():\n",
        "  return 3 + 3\n",
        "sum_number()"
      ],
      "metadata": {
        "colab": {
          "base_uri": "https://localhost:8080/"
        },
        "id": "IVi4i2n7dQ9S",
        "outputId": "b68a9c2d-49ad-4d2d-c991-76aef5284977"
      },
      "execution_count": null,
      "outputs": [
        {
          "output_type": "execute_result",
          "data": {
            "text/plain": [
              "6"
            ]
          },
          "metadata": {},
          "execution_count": 30
        }
      ]
    },
    {
      "cell_type": "markdown",
      "source": [
        "# Mission 2"
      ],
      "metadata": {
        "id": "NTH39Am4EvLo"
      }
    },
    {
      "cell_type": "markdown",
      "source": [
        "Create a function that returns the sum of two numbers.  \n",
        "The user of the function must be able to sum two numbers of his choice, when the function is executed.  \n",
        "You must not use `input`.  \n"
      ],
      "metadata": {
        "id": "m9q2VGmlC3bI"
      }
    },
    {
      "cell_type": "code",
      "source": [
        "def sum_number(number_1, number_2):\n",
        "   return \"the sum of the two number is : \", number_1 + number_2\n",
        "sum_number(3, 5)\n"
      ],
      "metadata": {
        "colab": {
          "base_uri": "https://localhost:8080/"
        },
        "id": "DMSNNgf2dunF",
        "outputId": "870e3632-1308-40ba-e065-2877d80db1b9"
      },
      "execution_count": null,
      "outputs": [
        {
          "output_type": "execute_result",
          "data": {
            "text/plain": [
              "('the sum of the two number is : ', 8)"
            ]
          },
          "metadata": {},
          "execution_count": 28
        }
      ]
    },
    {
      "cell_type": "markdown",
      "source": [
        "Question:   \n",
        "What is a parameter in a function?"
      ],
      "metadata": {
        "id": "o9gEnSiBESZz"
      }
    },
    {
      "cell_type": "markdown",
      "source": [
        "Answer :\n",
        "**A parameter is a variable declared during the definition of a function. It acts as a placeholder that will be used in the code of the method.**"
      ],
      "metadata": {
        "id": "Vd4yoEQqfWDg"
      }
    },
    {
      "cell_type": "markdown",
      "source": [
        "# Mission 3"
      ],
      "metadata": {
        "id": "JfvzWKRsE02-"
      }
    },
    {
      "cell_type": "markdown",
      "source": [
        "\n",
        "Create a function that returns the sum of two numbers chosen by the user of the function, in a sentence.  \n",
        "For example:  \n",
        "`new_sum_2(3,8)` returns `\"The sum of 3 + 8 is equal to 11.\"`"
      ],
      "metadata": {
        "id": "A_xh0sExE5Tc"
      }
    },
    {
      "cell_type": "code",
      "source": [
        "def new_sum(number_one, number_two):\n",
        "  return \"The sum of\", number_one,  '+', number_two, 'is equal to',  number_one + number_two\n",
        "new_sum(3, 8)"
      ],
      "metadata": {
        "colab": {
          "base_uri": "https://localhost:8080/"
        },
        "id": "QBslfOYshxLq",
        "outputId": "4d320fe3-da5b-48c6-e057-1b305887250d"
      },
      "execution_count": 3,
      "outputs": [
        {
          "output_type": "execute_result",
          "data": {
            "text/plain": [
              "('The sum of', 3, '+', 8, 'is equal to', 11)"
            ]
          },
          "metadata": {},
          "execution_count": 3
        }
      ]
    },
    {
      "cell_type": "markdown",
      "source": [
        "# Mission 4\n",
        "\n",
        "Create a function that returns 2 objects when executed:\n",
        "* An object that will be the product of two numbers chosen by the user of the function.\n",
        "* A word chosen by the user of the function."
      ],
      "metadata": {
        "id": "2TTBtBSlGVH7"
      }
    },
    {
      "cell_type": "markdown",
      "source": [
        "Your result must be two objects that are in brackets.  \n",
        "This is a tuple.\n",
        "\n",
        "Question:  \n",
        "Why is the returned object a tuple that contains two objects?  \n",
        "\n",
        "Answer:\n"
      ],
      "metadata": {
        "id": "IDsLOssWIiaF"
      }
    },
    {
      "cell_type": "code",
      "source": [
        "def create_tuple():\n",
        "  numero_1 = float(input(\"entrez le premier nombre : \"))\n",
        "  numero_2 = float(input(\"entrez le deuxieme nombre : \"))\n",
        "  mot_donner = input(\"entrez le mot: \")\n",
        "  product_numbers = numero_1 * numero_2\n",
        "  return product_numbers, mot_donner\n",
        "create_tuple()\n",
        "\n"
      ],
      "metadata": {
        "colab": {
          "base_uri": "https://localhost:8080/"
        },
        "id": "Oi-KoIPj1z4F",
        "outputId": "684a0bde-641b-48b2-e4bf-94a3f7d7c7dd"
      },
      "execution_count": null,
      "outputs": [
        {
          "name": "stdout",
          "output_type": "stream",
          "text": [
            "entrez le premier nombre : 5\n",
            "entrez le deuxieme nombre : 2\n",
            "entrez le mot: hi \n"
          ]
        },
        {
          "output_type": "execute_result",
          "data": {
            "text/plain": [
              "(10.0, 'hi ')"
            ]
          },
          "metadata": {},
          "execution_count": 32
        }
      ]
    },
    {
      "cell_type": "markdown",
      "source": [
        "# Mission 5\n",
        "\n",
        "Create a function that returns the sum of two numbers when executed.  \n",
        "Also, your function must return a sentence that simply indicates if the sum of the two numbers chosen by the user is:\n",
        "* less than 10\n",
        "* between 10 and 50\n",
        "* greater than 50  \n",
        "Again, you must use `return`."
      ],
      "metadata": {
        "id": "BFuKSzy5JR4P"
      }
    },
    {
      "cell_type": "code",
      "source": [
        "def sum_number_5():\n",
        "  numero_1 = int(input(\"entrez le premier nombre : \"))\n",
        "  numero_2 = int(input(\"entrez le deuxieme nombre : \"))\n",
        "  total = numero_1 + numero_2\n",
        "  if total < 10:\n",
        "    return \"less than 10\"\n",
        "  elif 10 < total < 50:\n",
        "    return \"between 10 and 50\"\n",
        "  else:\n",
        "    return \"greater than 50\"\n",
        "\n",
        "sum_number_5()"
      ],
      "metadata": {
        "colab": {
          "base_uri": "https://localhost:8080/",
          "height": 70
        },
        "id": "l54ugIfrjrI2",
        "outputId": "0a849ad0-11cb-48aa-b64c-4899621e827c"
      },
      "execution_count": null,
      "outputs": [
        {
          "name": "stdout",
          "output_type": "stream",
          "text": [
            "entrez le premier nombre : 5\n",
            "entrez le deuxieme nombre : 6\n"
          ]
        },
        {
          "output_type": "execute_result",
          "data": {
            "text/plain": [
              "'between 10 and 50'"
            ],
            "application/vnd.google.colaboratory.intrinsic+json": {
              "type": "string"
            }
          },
          "metadata": {},
          "execution_count": 35
        }
      ]
    }
  ]
}
