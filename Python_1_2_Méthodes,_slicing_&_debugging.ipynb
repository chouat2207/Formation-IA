{
  "nbformat": 4,
  "nbformat_minor": 0,
  "metadata": {
    "colab": {
      "provenance": [],
      "include_colab_link": true
    },
    "kernelspec": {
      "name": "python3",
      "display_name": "Python 3"
    },
    "language_info": {
      "name": "python"
    }
  },
  "cells": [
    {
      "cell_type": "markdown",
      "metadata": {
        "id": "view-in-github",
        "colab_type": "text"
      },
      "source": [
        "<a href=\"https://colab.research.google.com/github/chouat2207/Python/blob/main/Python_1_2_M%C3%A9thodes%2C_slicing_%26_debugging.ipynb\" target=\"_parent\"><img src=\"https://colab.research.google.com/assets/colab-badge.svg\" alt=\"Open In Colab\"/></a>"
      ]
    },
    {
      "cell_type": "markdown",
      "source": [
        "# Méthodes"
      ],
      "metadata": {
        "id": "2fIBM1WeK8hQ"
      }
    },
    {
      "cell_type": "markdown",
      "source": [
        "## `String`"
      ],
      "metadata": {
        "id": "wHK61RAvsWqf"
      }
    },
    {
      "cell_type": "markdown",
      "source": [
        "1.1 Utilisez une [méthode](https://runestone.academy/ns/books/published/py4e-int/strings/methods.html) Python qui permet de supprimer les espaces au début et à la fin du `string`suivant:"
      ],
      "metadata": {
        "id": "5pQ3lO0VA8pv"
      }
    },
    {
      "cell_type": "code",
      "source": [
        "greeting = \" Hello  World    \"\n",
        "supprim_space = greeting.strip()\n",
        "print(supprim_space)"
      ],
      "metadata": {
        "id": "Ndbz2h4JAmIJ",
        "colab": {
          "base_uri": "https://localhost:8080/"
        },
        "outputId": "ec3334de-ec7c-4e9e-95cf-4cd07712d8f6"
      },
      "execution_count": null,
      "outputs": [
        {
          "output_type": "stream",
          "name": "stdout",
          "text": [
            "Hello  World\n"
          ]
        }
      ]
    },
    {
      "cell_type": "markdown",
      "source": [
        "1.2 Utilisez une méthode Python qui permet de mettre en majuscules le `string` suivant:"
      ],
      "metadata": {
        "id": "Gq9puPLsGR4_"
      }
    },
    {
      "cell_type": "code",
      "source": [
        "greeting_message = \"Hi Denis ! Look at me, I'm a Vampire !\"\n",
        "greeting_message.upper()"
      ],
      "metadata": {
        "id": "VUPVZk9IBLXJ",
        "colab": {
          "base_uri": "https://localhost:8080/",
          "height": 36
        },
        "outputId": "c8b9ede3-a134-4618-d0c5-b823784c4284"
      },
      "execution_count": null,
      "outputs": [
        {
          "output_type": "execute_result",
          "data": {
            "text/plain": [
              "\"HI DENIS ! LOOK AT ME, I'M A VAMPIRE !\""
            ],
            "application/vnd.google.colaboratory.intrinsic+json": {
              "type": "string"
            }
          },
          "metadata": {},
          "execution_count": 6
        }
      ]
    },
    {
      "cell_type": "markdown",
      "source": [
        "1.3 Remplacez les caractères \"f\" par \"n\", et \"v\" par \"t\":"
      ],
      "metadata": {
        "id": "6KFS546UHhT5"
      }
    },
    {
      "cell_type": "code",
      "source": [
        "question = \"C'est une boffe situavion scribe ?\"\n",
        "quext = question.replace(\"f\", \"n\").replace(\"v\", \"t\")\n",
        "print(quext)"
      ],
      "metadata": {
        "id": "jd6J6v84HJCd",
        "colab": {
          "base_uri": "https://localhost:8080/"
        },
        "outputId": "45d3440d-cf2e-4a0c-c3d2-fee231903a88"
      },
      "execution_count": null,
      "outputs": [
        {
          "output_type": "stream",
          "name": "stdout",
          "text": [
            "C'est une bonne situation scribe ?\n"
          ]
        }
      ]
    },
    {
      "cell_type": "markdown",
      "source": [
        "# Slicing"
      ],
      "metadata": {
        "id": "7fwx_-DuC9Eh"
      }
    },
    {
      "cell_type": "markdown",
      "source": [
        "2.1 Maintenant, récupérez la première lettre du `string` suivant:"
      ],
      "metadata": {
        "id": "rBikvZkAC99G"
      }
    },
    {
      "cell_type": "code",
      "source": [
        "greeting = \"Hello World\"\n",
        "greeting[0]"
      ],
      "metadata": {
        "id": "OstzYvLSDCTK",
        "colab": {
          "base_uri": "https://localhost:8080/",
          "height": 36
        },
        "outputId": "2d2abf4b-ce1e-4cf5-c805-34b1b090e9cd"
      },
      "execution_count": null,
      "outputs": [
        {
          "output_type": "execute_result",
          "data": {
            "text/plain": [
              "'H'"
            ],
            "application/vnd.google.colaboratory.intrinsic+json": {
              "type": "string"
            }
          },
          "metadata": {},
          "execution_count": 8
        }
      ]
    },
    {
      "cell_type": "markdown",
      "source": [
        "2.2 Récupérez le premier élément de la `liste` suivante:"
      ],
      "metadata": {
        "id": "f69qj_X_DHkn"
      }
    },
    {
      "cell_type": "code",
      "source": [
        "colors = [\"mintcream\", \"burlywood\", \"salmon\"]\n",
        "colors[0]"
      ],
      "metadata": {
        "id": "-Y1AkD0vDKoO"
      },
      "execution_count": null,
      "outputs": []
    },
    {
      "cell_type": "markdown",
      "source": [
        "2.3 Récupérez le premier élément du tuple suivant:"
      ],
      "metadata": {
        "id": "yyccxp7WDNTX"
      }
    },
    {
      "cell_type": "code",
      "source": [
        "color_palette = (\"burlywood\", \"salmon\", \"mintcream\")\n",
        "color_palette[0]"
      ],
      "metadata": {
        "id": "xNVvDcy_DPyr",
        "colab": {
          "base_uri": "https://localhost:8080/",
          "height": 36
        },
        "outputId": "118f37c2-281b-4a71-8c4e-aa96d6f11df9"
      },
      "execution_count": null,
      "outputs": [
        {
          "output_type": "execute_result",
          "data": {
            "text/plain": [
              "'burlywood'"
            ],
            "application/vnd.google.colaboratory.intrinsic+json": {
              "type": "string"
            }
          },
          "metadata": {},
          "execution_count": 9
        }
      ]
    },
    {
      "cell_type": "markdown",
      "source": [
        "2.4 Récupérez le premier élément du dict suivant:"
      ],
      "metadata": {
        "id": "MtVLa5ZJDR9K"
      }
    },
    {
      "cell_type": "code",
      "source": [
        "person_info = {\"name\": \"Jules César\", \"Job\": \"Musician\", \"age\": 55}\n",
        "person_info[\"name\"]"
      ],
      "metadata": {
        "id": "o_LVNAk4DU1p",
        "colab": {
          "base_uri": "https://localhost:8080/",
          "height": 36
        },
        "outputId": "6e4299f4-3c86-4637-d8eb-7e043d86a80d"
      },
      "execution_count": null,
      "outputs": [
        {
          "output_type": "execute_result",
          "data": {
            "text/plain": [
              "'Jules César'"
            ],
            "application/vnd.google.colaboratory.intrinsic+json": {
              "type": "string"
            }
          },
          "metadata": {},
          "execution_count": 10
        }
      ]
    },
    {
      "cell_type": "markdown",
      "source": [
        "\n",
        "Pour un dict, on ne parle pas d'éléments, mais de clés 'keys\" et valeurs \"values\"."
      ],
      "metadata": {
        "id": "cz-FT7QIDWnx"
      }
    },
    {
      "cell_type": "markdown",
      "source": [
        "2.5 Récupérez la valeur de la clé name:"
      ],
      "metadata": {
        "id": "065WT9jhDbFV"
      }
    },
    {
      "cell_type": "code",
      "source": [
        "person_info = {\"name\": \"Jules César\", \"Job\": \"Musician\", \"age\": 55}\n",
        "person_info[\"name\"]"
      ],
      "metadata": {
        "id": "Osa85L8cDdRI",
        "colab": {
          "base_uri": "https://localhost:8080/",
          "height": 36
        },
        "outputId": "49f8f37c-7ccd-4bb0-e397-5694cbad2146"
      },
      "execution_count": null,
      "outputs": [
        {
          "output_type": "execute_result",
          "data": {
            "text/plain": [
              "'Jules César'"
            ],
            "application/vnd.google.colaboratory.intrinsic+json": {
              "type": "string"
            }
          },
          "metadata": {},
          "execution_count": 13
        }
      ]
    },
    {
      "cell_type": "markdown",
      "source": [],
      "metadata": {
        "id": "OZre1hAmreA3"
      }
    },
    {
      "cell_type": "markdown",
      "source": [
        "2.6 Récupérez la clé associée à la première valeur:"
      ],
      "metadata": {
        "id": "qqaDoItlDdxG"
      }
    },
    {
      "cell_type": "code",
      "source": [
        "person_info = {\"name\": \"Jules César\", \"Job\": \"Musician\", \"age\": 55}\n",
        "list(person_info.keys())[1]\n",
        "# for key, value in person_info.items():\n",
        "#     if value == list(person_info.values())[1]:\n",
        "#         print(key)"
      ],
      "metadata": {
        "id": "tJfcT2h6Dgie",
        "colab": {
          "base_uri": "https://localhost:8080/",
          "height": 36
        },
        "outputId": "ca57bbbb-d307-4083-b2fb-1ea0458a5ac2"
      },
      "execution_count": null,
      "outputs": [
        {
          "output_type": "execute_result",
          "data": {
            "text/plain": [
              "'Job'"
            ],
            "application/vnd.google.colaboratory.intrinsic+json": {
              "type": "string"
            }
          },
          "metadata": {},
          "execution_count": 25
        }
      ]
    },
    {
      "cell_type": "markdown",
      "source": [
        "2.7 Maintenant, récupérez les caractères des indices 2 à 4 ('llo') inclus du string suivant :"
      ],
      "metadata": {
        "id": "tEuqgeI-Dk3N"
      }
    },
    {
      "cell_type": "code",
      "source": [
        "greeting = \"Hello World\"\n",
        "greeting[2:5]"
      ],
      "metadata": {
        "id": "6Hc0Db9dDh_z",
        "colab": {
          "base_uri": "https://localhost:8080/",
          "height": 36
        },
        "outputId": "e0db1495-4286-4b57-e451-8080c0dc2f36"
      },
      "execution_count": null,
      "outputs": [
        {
          "output_type": "execute_result",
          "data": {
            "text/plain": [
              "'llo'"
            ],
            "application/vnd.google.colaboratory.intrinsic+json": {
              "type": "string"
            }
          },
          "metadata": {},
          "execution_count": 3
        }
      ]
    },
    {
      "cell_type": "markdown",
      "source": [
        "2.8 Récupérez les éléments aux indices 2 à 4 inclus [\"salmon\", ..., \"blanchedalmond\"] de la list suivante:"
      ],
      "metadata": {
        "id": "B9SUudviDvVW"
      }
    },
    {
      "cell_type": "code",
      "source": [
        "color_palette = [\"mintcream\", \"burlywood\", \"salmon\", \"aliceblue\", \"blanchedalmond\", \"cornflowerblue\", \"lavenderblush\"]\n",
        "color_palette[2 : 5]"
      ],
      "metadata": {
        "id": "57U4hW0LDv8A",
        "colab": {
          "base_uri": "https://localhost:8080/"
        },
        "outputId": "b52bb77c-e19b-4d32-d64c-2076d1b2c6d8"
      },
      "execution_count": 1,
      "outputs": [
        {
          "output_type": "execute_result",
          "data": {
            "text/plain": [
              "['salmon', 'aliceblue', 'blanchedalmond']"
            ]
          },
          "metadata": {},
          "execution_count": 1
        }
      ]
    },
    {
      "cell_type": "markdown",
      "source": [
        "# Code debugging"
      ],
      "metadata": {
        "id": "CL5q7sJpLC5l"
      }
    },
    {
      "cell_type": "markdown",
      "source": [
        "3.1 Dans le code ci-dessous, remplacez \"...\" par la syntaxe qui convient pour que la phrase s'affiche en sortie:"
      ],
      "metadata": {
        "id": "tARLcBqkI6UK"
      }
    },
    {
      "cell_type": "code",
      "source": [
        "fruits = [\"apple\", \"banana\"]\n",
        "if \"apple\" in fruits:\n",
        "  print(\"Yes, apple is a fruit!\")"
      ],
      "metadata": {
        "id": "g9i3_Yb-H0fG",
        "colab": {
          "base_uri": "https://localhost:8080/"
        },
        "outputId": "4b34eda7-5844-4220-e23a-f844133be714"
      },
      "execution_count": 2,
      "outputs": [
        {
          "output_type": "stream",
          "name": "stdout",
          "text": [
            "Yes, apple is a fruit!\n"
          ]
        }
      ]
    },
    {
      "cell_type": "markdown",
      "source": [
        "3.2 Dans le code ci-dessous, remplacez \"...\" par l'opérateur booléen `or` ou `and` qui convient pour que la phrase s'affiche en sortie:"
      ],
      "metadata": {
        "id": "54ZgZmseOmA7"
      }
    },
    {
      "cell_type": "code",
      "source": [
        "if 12 < 5 or 3 == 3:\n",
        "  print(\"Here we go !\")"
      ],
      "metadata": {
        "id": "mBxDU3GlOno4",
        "colab": {
          "base_uri": "https://localhost:8080/"
        },
        "outputId": "10b84503-713e-40ec-e6d0-4ba356c9693a"
      },
      "execution_count": 5,
      "outputs": [
        {
          "output_type": "stream",
          "name": "stdout",
          "text": [
            "Here we go !\n"
          ]
        }
      ]
    },
    {
      "cell_type": "markdown",
      "source": [
        "3.3 Modifiez le code ci-dessous pour que la phrase s'affiche."
      ],
      "metadata": {
        "id": "IHdB-6tcLLPz"
      }
    },
    {
      "cell_type": "code",
      "source": [
        "if \"kiwi\".startswith(\"k\"):\n",
        "  print(\"Of course kiwi starts with a 'k'\")"
      ],
      "metadata": {
        "id": "ysiWc9tUImsc",
        "colab": {
          "base_uri": "https://localhost:8080/"
        },
        "outputId": "beb4e0ea-6887-4a9e-ee56-0321f93253a7"
      },
      "execution_count": 10,
      "outputs": [
        {
          "output_type": "stream",
          "name": "stdout",
          "text": [
            "Of course kiwi starts with a 'k'\n"
          ]
        }
      ]
    },
    {
      "cell_type": "markdown",
      "source": [
        "3.4 Modifiez le code ci-dessous pour que la phrase s'affiche.  \n",
        "Vous n'avez le droit que de modifier l'emplacement des variables `count_1`, `count_2` et `count_3`.  \n",
        "Aussi, vous pouvez ajoutez des parenthèses pour créer une exception aux priorités opératoires."
      ],
      "metadata": {
        "id": "o2_gf_VmLveE"
      }
    },
    {
      "cell_type": "code",
      "source": [
        "count_1 = 12\n",
        "count_2 = 4\n",
        "count_3 = 2\n",
        "if (count_1 + count_2) / count_3 == 8:\n",
        " print(\"You can call me 'The MasterMath'.\")\n"
      ],
      "metadata": {
        "id": "qx6t1A4ULlgB",
        "colab": {
          "base_uri": "https://localhost:8080/"
        },
        "outputId": "b9718c16-4acd-48b0-93df-bc5e0a343e95"
      },
      "execution_count": 22,
      "outputs": [
        {
          "output_type": "stream",
          "name": "stdout",
          "text": [
            "You can call me 'The MasterMath'.\n"
          ]
        }
      ]
    },
    {
      "cell_type": "markdown",
      "source": [
        "3.5 Vous allez maintenant vous familiariser avec la division euclidienne.  \n",
        "Il y a ici deux termes à connaître:\n",
        "* Le reste\n",
        "* Le quotient  \n",
        "\n",
        "Faites vos recherches pour être à l'aise avec ces termes.\n",
        "\n",
        "Aussi, faites vos recherches pour savoir quel symbole permet d'afficher le reste ou le quotient, en python.  \n",
        "\n",
        "Une fois que c'est fait, vous pouvez faire l'exercice suivant :  \n",
        "Parmi ses variables, lesquels ont une valeur divisible par 2, donc un reste égale à 0 ?\n",
        "\n",
        "Pour répondre, vous allez devoir tester chacune des variable, et remplacer \"...\" par le symbole qui convient."
      ],
      "metadata": {
        "id": "swkZ_qKytmHQ"
      }
    },
    {
      "cell_type": "code",
      "source": [
        "count_1 = 3\n",
        "count_2 = 6\n",
        "count_3 = 7\n",
        "count_4 = 14\n",
        "count_5 = 12\n",
        "\n",
        "if count_2 % 2 == 0:\n",
        "  print(f\"On s'exerce ici avec la division euclidienne. Le reste de {count_2} divisé par 2 est égale à 0.\")\n",
        "\n",
        "if count_5 % 2 == 0:\n",
        "  print(f\"On s'exerce ici avec la division euclidienne. Le reste de {count_5} divisé par 2 est égale à 0.\")\n",
        "\n",
        "if count_4 % 2 == 0:\n",
        "  print(f\"On s'exerce ici avec la division euclidienne. Le reste de {count_4} divisé par 2 est égale à 0.\")"
      ],
      "metadata": {
        "id": "gvWHafdntbeC",
        "colab": {
          "base_uri": "https://localhost:8080/"
        },
        "outputId": "32b8f7df-4301-44d4-f504-1b17a54790ff"
      },
      "execution_count": 38,
      "outputs": [
        {
          "output_type": "stream",
          "name": "stdout",
          "text": [
            "On s'exerce ici avec la division euclidienne. Le reste de 6 divisé par 2 est égale à 0.\n",
            "On s'exerce ici avec la division euclidienne. Le reste de 12 divisé par 2 est égale à 0.\n",
            "On s'exerce ici avec la division euclidienne. Le reste de 14 divisé par 2 est égale à 0.\n"
          ]
        }
      ]
    },
    {
      "cell_type": "markdown",
      "source": [
        "3.6 Cette fois, on veut connaître les variables dont les valeurs ont un quotient supérieur à 5 lorsqu'on divise chaque valeur par 5.\n",
        "\n",
        "Remplacez \"...\" par le code qui convient."
      ],
      "metadata": {
        "id": "8d1__TwEwHyx"
      }
    },
    {
      "cell_type": "code",
      "source": [
        "count_1 = 34\n",
        "count_2 = 37\n",
        "count_3 = 24\n",
        "count_4 = 29\n",
        "count_5 = 31\n",
        "\n",
        "if count_1  // 5 > 5:\n",
        "  print(f\"On s'exerce ici avec la division euclidienne. Le quotient de {count_1} divisé par 5 est égale à {count_1 // 5}.\")\n",
        "\n",
        "if count_2 // 5 > 5:\n",
        "  print(f\"On s'exerce ici avec la division euclidienne. Le quotient de {count_2} divisé par 5 est égale à {count_2 // 5}.\")\n",
        "\n",
        "if count_5 // 5 > 5:\n",
        "  print(f\"On s'exerce ici avec la division euclidienne. Le quotient de {count_5} divisé par 5 est égale à {count_5 // 5}.\")"
      ],
      "metadata": {
        "id": "iGAcOPkTuXhh",
        "colab": {
          "base_uri": "https://localhost:8080/"
        },
        "outputId": "8fbc6565-fa5c-41d1-cb09-7148a38d2d76"
      },
      "execution_count": 43,
      "outputs": [
        {
          "output_type": "stream",
          "name": "stdout",
          "text": [
            "On s'exerce ici avec la division euclidienne. Le quotient de 34 divisé par 5 est égale à 6.\n",
            "On s'exerce ici avec la division euclidienne. Le quotient de 37 divisé par 5 est égale à 7.\n",
            "On s'exerce ici avec la division euclidienne. Le quotient de 31 divisé par 5 est égale à 6.\n"
          ]
        }
      ]
    }
  ]
}