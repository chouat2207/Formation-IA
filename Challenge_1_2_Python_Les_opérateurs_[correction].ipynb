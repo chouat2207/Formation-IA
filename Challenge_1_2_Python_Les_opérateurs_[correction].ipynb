{
  "cells": [
    {
      "cell_type": "markdown",
      "metadata": {
        "id": "view-in-github",
        "colab_type": "text"
      },
      "source": [
        "<a href=\"https://colab.research.google.com/github/chouat2207/Python/blob/main/Challenge_1_2_Python_Les_op%C3%A9rateurs_%5Bcorrection%5D.ipynb\" target=\"_parent\"><img src=\"https://colab.research.google.com/assets/colab-badge.svg\" alt=\"Open In Colab\"/></a>"
      ]
    },
    {
      "cell_type": "markdown",
      "metadata": {
        "id": "p0IY6ccQKu9_"
      },
      "source": [
        "# 1. Calcul d'un prix"
      ]
    },
    {
      "cell_type": "markdown",
      "metadata": {
        "id": "chbM0tgeZpEf"
      },
      "source": [
        "Ecrivez un programme faisant saisir à l’utilisateur un prix unitaire HT, un taux de TVA et un nombre d’articles, et qui calcule le montant TTC de l’achat.<br>\n",
        "Affichez le montant TTC."
      ]
    },
    {
      "cell_type": "code",
      "execution_count": null,
      "metadata": {
        "id": "WjJmN0AxZBLw",
        "outputId": "e6bf262c-7ab4-406e-f0b8-c1e8256bbb0f"
      },
      "outputs": [
        {
          "name": "stdout",
          "output_type": "stream",
          "text": [
            "Le montant total TTC de l'achat est : 57.75\n"
          ]
        }
      ],
      "source": [
        "# Demande de saisie des informations nécessaires\n",
        "prix_unitaire_ht = float(input(\"Entrez le prix unitaire HT : \"))\n",
        "taux_tva = float(input(\"Entrez le taux de TVA (%) : \"))\n",
        "nombre_articles = int(input(\"Entrez le nombre d'articles : \"))\n",
        "\n",
        "# Calcul du montant TTC\n",
        "montant_ttc = prix_unitaire_ht * (1 + taux_tva / 100) * nombre_articles\n",
        "\n",
        "# Affichage du résultat\n",
        "print(\"Le montant total TTC de l'achat est :\", montant_ttc)"
      ]
    },
    {
      "cell_type": "markdown",
      "metadata": {
        "id": "J-YXtU1Yb2pi"
      },
      "source": [
        "# 2. Conversion de durées (1)"
      ]
    },
    {
      "cell_type": "markdown",
      "metadata": {
        "id": "yerUe3q7cMmR"
      },
      "source": [
        "Ecrivez un programme demandant une durée en secondes à l’utilisateur, et qui la convertit en heures, minutes, secondes.<br>\n",
        "Affichez le résultat.<br>\n",
        "Par exemple 12334 deviendra 3 heures, 25 minutes et 34 secondes."
      ]
    },
    {
      "cell_type": "code",
      "execution_count": null,
      "metadata": {
        "id": "yVs2Ry3NbpEW",
        "outputId": "dc613ae4-76ae-4409-942e-47b3a2fdfd4d"
      },
      "outputs": [
        {
          "name": "stdout",
          "output_type": "stream",
          "text": [
            "12334 secondes correspond à 3 heures, 25 minutes et  34 secondes.\n"
          ]
        }
      ],
      "source": [
        "# Demande de la durée en secondes\n",
        "duree_secondes = int(input(\"Entrez une durée en secondes : \"))\n",
        "\n",
        "# Calcul des heures, minutes et secondes\n",
        "heures = duree_secondes // 3600                  # Division entière pour obtenir les heures\n",
        "reste_secondes = duree_secondes % 3600           # Reste des secondes après avoir extrait les heures\n",
        "minutes = reste_secondes // 60                   # Division entière pour obtenir les minutes\n",
        "secondes = reste_secondes % 60                   # Reste des secondes après avoir extrait les minutes\n",
        "\n",
        "# Affichage du résultat\n",
        "print(duree_secondes, \"secondes correspond à\", heures, \"heures,\", minutes, \"minutes et\", secondes, \"secondes.\")"
      ]
    },
    {
      "cell_type": "markdown",
      "metadata": {
        "id": "v9TIXnJsJ-a9"
      },
      "source": [
        "# 3. Conversion de durées (2)"
      ]
    },
    {
      "cell_type": "markdown",
      "metadata": {
        "id": "HAnd9pePJ-a9"
      },
      "source": [
        "Ecrivez un programme demandant une durée en heures, minutes, secondes à l’utilisateur et qui la convertit en secondes.<br>\n",
        "Affichez le résultat.<br>\n",
        "Par exemple 3 heures, 25 minutes et 34 secondes deviendra 12334 secondes."
      ]
    },
    {
      "cell_type": "code",
      "execution_count": null,
      "metadata": {
        "id": "jUCVCW8ZJ-a-",
        "outputId": "a45530ac-f4c7-46b3-ad09-9ac3588d90bd"
      },
      "outputs": [
        {
          "name": "stdout",
          "output_type": "stream",
          "text": [
            "3 heures, 25 minutes et 34 secondes correspondent à 12334 secondes.\n"
          ]
        }
      ],
      "source": [
        "# Demande de la durée en heures, minutes et secondes\n",
        "heures = int(input(\"Entrez le nombre d'heures : \"))\n",
        "minutes = int(input(\"Entrez le nombre de minutes : \"))\n",
        "secondes = int(input(\"Entrez le nombre de secondes : \"))\n",
        "\n",
        "# Calcul du total en secondes\n",
        "total_secondes = (heures * 3600) + (minutes * 60) + secondes\n",
        "\n",
        "# Affichage du résultat\n",
        "print(heures, \"heures,\", minutes, \"minutes et\", secondes, \"secondes correspondent à\", total_secondes, \"secondes.\")"
      ]
    }
  ],
  "metadata": {
    "colab": {
      "provenance": [],
      "include_colab_link": true
    },
    "kernelspec": {
      "display_name": "base",
      "language": "python",
      "name": "python3"
    },
    "language_info": {
      "codemirror_mode": {
        "name": "ipython",
        "version": 3
      },
      "file_extension": ".py",
      "mimetype": "text/x-python",
      "name": "python",
      "nbconvert_exporter": "python",
      "pygments_lexer": "ipython3",
      "version": "3.11.5"
    }
  },
  "nbformat": 4,
  "nbformat_minor": 0
}