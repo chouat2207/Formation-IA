{
  "nbformat": 4,
  "nbformat_minor": 0,
  "metadata": {
    "colab": {
      "provenance": [],
      "include_colab_link": true
    },
    "kernelspec": {
      "name": "python3",
      "display_name": "Python 3"
    }
  },
  "cells": [
    {
      "cell_type": "markdown",
      "metadata": {
        "id": "view-in-github",
        "colab_type": "text"
      },
      "source": [
        "<a href=\"https://colab.research.google.com/github/chouat2207/Python/blob/main/Introduction_to_JSON_challenge.ipynb\" target=\"_parent\"><img src=\"https://colab.research.google.com/assets/colab-badge.svg\" alt=\"Open In Colab\"/></a>"
      ]
    },
    {
      "cell_type": "markdown",
      "metadata": {
        "id": "3gy55VJcTu_4"
      },
      "source": [
        "# Reading a JSON\n",
        "\n",
        "Execute the code below :"
      ]
    },
    {
      "cell_type": "code",
      "metadata": {
        "id": "RlpIEaOvTuV2",
        "colab": {
          "base_uri": "https://localhost:8080/",
          "height": 156
        },
        "outputId": "01ad5fa0-1966-44b3-ecf9-6423d119a06f"
      },
      "source": [
        "import json\n",
        "import requests\n",
        "\n",
        "link = \"https://raw.githubusercontent.com/murpi/wilddata/master/quests/monthlySalesbyCategoryMultiple.json\"\n",
        "\n",
        "# This function gets the file content from the URL\n",
        "r = requests.get(link)\n",
        "\n",
        "\n",
        "# You can access to the text content with this function\n",
        "r.text"
      ],
      "execution_count": null,
      "outputs": [
        {
          "output_type": "execute_result",
          "data": {
            "text/plain": [
              "'{ \"contents\": [\\n  {\\n    \"category\": \"Furniture\",\\n    \"region\": \"West\",\\n    \"monthlySales\":\\n\\n      [{\\n        \"month\":20130101,\\n        \"sales\":38\\n      },\\n      {\\n        \"month\":20130201,\\n        \"sales\":35\\n      },\\n      {\\n        \"month\":20130301,\\n        \"sales\":41\\n      },\\n      {\\n        \"month\":20130401,\\n        \"sales\":55\\n      },\\n      {\\n        \"month\":20130501,\\n        \"sales\":58\\n      },\\n      {\\n        \"month\":20130601,\\n        \"sales\":66\\n      },\\n      {\\n        \"month\":20130701,\\n        \"sales\":74\\n      },\\n      {\\n        \"month\":20130801,\\n        \"sales\":78\\n      },\\n      {\\n        \"month\":20130901,\\n        \"sales\":38\\n      },\\n      {\\n        \"month\":20131001,\\n        \"sales\":30\\n      },\\n      {\\n        \"month\":20131101,\\n        \"sales\":26\\n      },\\n      {\\n        \"month\":20131201,\\n        \"sales\":29\\n      }\\n    ]\\n  },\\n  {\\n    \"category\": \"Technology\",\\n    \"region\": \"West\",\\n    \"monthlySales\":\\n\\n      [{\\n        \"month\":20130101,\\n        \"sales\":54\\n      },\\n      {\\n        \"month\":20130201,\\n        \"sales\":66\\n      },\\n      {\\n        \"month\":20130301,\\n        \"sales\":77\\n      },\\n      {\\n        \"month\":20130401,\\n        \"sales\":70\\n      },\\n      {\\n        \"month\":20130501,\\n        \"sales\":60\\n      },\\n      {\\n        \"month\":20130601,\\n        \"sales\":63\\n      },\\n      {\\n        \"month\":20130701,\\n        \"sales\":55\\n      },\\n      {\\n        \"month\":20130801,\\n        \"sales\":47\\n      },\\n      {\\n        \"month\":20130901,\\n        \"sales\":55\\n      },\\n      {\\n        \"month\":20131001,\\n        \"sales\":30\\n      },\\n      {\\n        \"month\":20131101,\\n        \"sales\":22\\n      },\\n      {\\n        \"month\":20131201,\\n        \"sales\":77\\n      }\\n    ]\\n  }\\n]} \\n'"
            ],
            "application/vnd.google.colaboratory.intrinsic+json": {
              "type": "string"
            }
          },
          "metadata": {},
          "execution_count": 8
        }
      ]
    },
    {
      "cell_type": "code",
      "metadata": {
        "id": "q9YwmpYMTr1n",
        "colab": {
          "base_uri": "https://localhost:8080/"
        },
        "outputId": "7727a64d-f2d2-4c3d-ff06-78f33d599b7b"
      },
      "source": [
        "# Try this\n",
        "import json\n",
        "\n",
        "data = json.loads(r.text)\n",
        "data"
      ],
      "execution_count": null,
      "outputs": [
        {
          "output_type": "execute_result",
          "data": {
            "text/plain": [
              "{'contents': [{'category': 'Furniture',\n",
              "   'region': 'West',\n",
              "   'monthlySales': [{'month': 20130101, 'sales': 38},\n",
              "    {'month': 20130201, 'sales': 35},\n",
              "    {'month': 20130301, 'sales': 41},\n",
              "    {'month': 20130401, 'sales': 55},\n",
              "    {'month': 20130501, 'sales': 58},\n",
              "    {'month': 20130601, 'sales': 66},\n",
              "    {'month': 20130701, 'sales': 74},\n",
              "    {'month': 20130801, 'sales': 78},\n",
              "    {'month': 20130901, 'sales': 38},\n",
              "    {'month': 20131001, 'sales': 30},\n",
              "    {'month': 20131101, 'sales': 26},\n",
              "    {'month': 20131201, 'sales': 29}]},\n",
              "  {'category': 'Technology',\n",
              "   'region': 'West',\n",
              "   'monthlySales': [{'month': 20130101, 'sales': 54},\n",
              "    {'month': 20130201, 'sales': 66},\n",
              "    {'month': 20130301, 'sales': 77},\n",
              "    {'month': 20130401, 'sales': 70},\n",
              "    {'month': 20130501, 'sales': 60},\n",
              "    {'month': 20130601, 'sales': 63},\n",
              "    {'month': 20130701, 'sales': 55},\n",
              "    {'month': 20130801, 'sales': 47},\n",
              "    {'month': 20130901, 'sales': 55},\n",
              "    {'month': 20131001, 'sales': 30},\n",
              "    {'month': 20131101, 'sales': 22},\n",
              "    {'month': 20131201, 'sales': 77}]}]}"
            ]
          },
          "metadata": {},
          "execution_count": 9
        }
      ]
    },
    {
      "cell_type": "markdown",
      "metadata": {
        "id": "uogPKCrpZe1s"
      },
      "source": [
        "# Manipulate the data"
      ]
    },
    {
      "cell_type": "markdown",
      "metadata": {
        "id": "r1hWtHV3Yj0r"
      },
      "source": [
        "Now print for each category their total number of sales (without using a dataframe, just manipulating the dictionaries and lists).\n",
        "\n",
        "Expected result:\n",
        "- Furniture 568\n",
        "- Technology 676\n",
        "\n"
      ]
    },
    {
      "cell_type": "code",
      "source": [
        "data['contents']"
      ],
      "metadata": {
        "colab": {
          "base_uri": "https://localhost:8080/"
        },
        "id": "WLutjHk8MFbw",
        "outputId": "9cb53941-d8ce-441d-a006-a2217d7ea5af"
      },
      "execution_count": null,
      "outputs": [
        {
          "output_type": "execute_result",
          "data": {
            "text/plain": [
              "[{'category': 'Furniture',\n",
              "  'region': 'West',\n",
              "  'monthlySales': [{'month': 20130101, 'sales': 38},\n",
              "   {'month': 20130201, 'sales': 35},\n",
              "   {'month': 20130301, 'sales': 41},\n",
              "   {'month': 20130401, 'sales': 55},\n",
              "   {'month': 20130501, 'sales': 58},\n",
              "   {'month': 20130601, 'sales': 66},\n",
              "   {'month': 20130701, 'sales': 74},\n",
              "   {'month': 20130801, 'sales': 78},\n",
              "   {'month': 20130901, 'sales': 38},\n",
              "   {'month': 20131001, 'sales': 30},\n",
              "   {'month': 20131101, 'sales': 26},\n",
              "   {'month': 20131201, 'sales': 29}]},\n",
              " {'category': 'Technology',\n",
              "  'region': 'West',\n",
              "  'monthlySales': [{'month': 20130101, 'sales': 54},\n",
              "   {'month': 20130201, 'sales': 66},\n",
              "   {'month': 20130301, 'sales': 77},\n",
              "   {'month': 20130401, 'sales': 70},\n",
              "   {'month': 20130501, 'sales': 60},\n",
              "   {'month': 20130601, 'sales': 63},\n",
              "   {'month': 20130701, 'sales': 55},\n",
              "   {'month': 20130801, 'sales': 47},\n",
              "   {'month': 20130901, 'sales': 55},\n",
              "   {'month': 20131001, 'sales': 30},\n",
              "   {'month': 20131101, 'sales': 22},\n",
              "   {'month': 20131201, 'sales': 77}]}]"
            ]
          },
          "metadata": {},
          "execution_count": 27
        }
      ]
    },
    {
      "cell_type": "code",
      "source": [
        "for dict_category in data[\"contents\"]:\n",
        "    category = dict_category['category']\n",
        "    total_sales = sum(sale['sales']for sale in dict_category['monthlySales'])\n",
        "    print(f\"{category} {total_sales}\")"
      ],
      "metadata": {
        "colab": {
          "base_uri": "https://localhost:8080/"
        },
        "id": "uf9bePP2LNyQ",
        "outputId": "b7a672f4-3383-4caa-9ab4-a8618dde246b"
      },
      "execution_count": null,
      "outputs": [
        {
          "output_type": "stream",
          "name": "stdout",
          "text": [
            "Furniture 568\n",
            "Technology 676\n"
          ]
        }
      ]
    }
  ]
}