{
  "cells": [
    {
      "cell_type": "markdown",
      "metadata": {
        "id": "view-in-github",
        "colab_type": "text"
      },
      "source": [
        "<a href=\"https://colab.research.google.com/github/chouat2207/Python/blob/main/Challenge_1_1_Les_variables_%5Bcorrection%5D.ipynb\" target=\"_parent\"><img src=\"https://colab.research.google.com/assets/colab-badge.svg\" alt=\"Open In Colab\"/></a>"
      ]
    },
    {
      "cell_type": "markdown",
      "metadata": {
        "id": "p0IY6ccQKu9_"
      },
      "source": [
        "# 1. Les variables"
      ]
    },
    {
      "cell_type": "markdown",
      "metadata": {
        "id": "chbM0tgeZpEf"
      },
      "source": [
        "#### 1.1 Dans les cellules de code ci-dessous, quel est, pour chaque cellule, le type de chaque variable ?"
      ]
    },
    {
      "cell_type": "code",
      "execution_count": null,
      "metadata": {
        "id": "WjJmN0AxZBLw"
      },
      "outputs": [],
      "source": [
        "count = 5\n",
        "type(count)"
      ]
    },
    {
      "cell_type": "code",
      "execution_count": null,
      "metadata": {
        "id": "latNGJ8caLkY"
      },
      "outputs": [],
      "source": [
        "greeting = \"Hello World\"\n",
        "type(count)"
      ]
    },
    {
      "cell_type": "code",
      "execution_count": null,
      "metadata": {
        "id": "tf7IgsXZa15e"
      },
      "outputs": [],
      "source": [
        "price = 2.5\n",
        "type(count)"
      ]
    },
    {
      "cell_type": "code",
      "execution_count": null,
      "metadata": {
        "id": "lpPCkWfWbY3N"
      },
      "outputs": [],
      "source": [
        "is_active = True\n",
        "type(count)"
      ]
    },
    {
      "cell_type": "markdown",
      "metadata": {
        "id": "J-YXtU1Yb2pi"
      },
      "source": [
        "#### 1.2 Maintenant, vous allez devoir convertir des objets d'un certain type, en un autre type d'objet."
      ]
    },
    {
      "cell_type": "markdown",
      "metadata": {
        "id": "yerUe3q7cMmR"
      },
      "source": [
        "Convertissez la variable `count` en float."
      ]
    },
    {
      "cell_type": "code",
      "execution_count": null,
      "metadata": {
        "id": "yVs2Ry3NbpEW",
        "outputId": "29fa42b5-8b33-43c3-8fec-7e2e2fea194f"
      },
      "outputs": [
        {
          "data": {
            "text/plain": [
              "5.0"
            ]
          },
          "execution_count": 2,
          "metadata": {},
          "output_type": "execute_result"
        }
      ],
      "source": [
        "count = 5\n",
        "count = float(count)"
      ]
    },
    {
      "cell_type": "markdown",
      "metadata": {
        "id": "q0LodnjUcPyl"
      },
      "source": [
        "Convertissez la variable `price` en int"
      ]
    },
    {
      "cell_type": "code",
      "execution_count": null,
      "metadata": {
        "id": "0Ffo568UcJBg"
      },
      "outputs": [],
      "source": [
        "price = 5.4\n",
        "price = int(price)"
      ]
    },
    {
      "cell_type": "markdown",
      "metadata": {
        "id": "ZYsPxH7vcho9"
      },
      "source": [
        "Que pouvez-vous remarquer ?"
      ]
    },
    {
      "cell_type": "markdown",
      "metadata": {
        "id": "Le9gddo6ckPP"
      },
      "source": [
        "Réponse:\n",
        "La conversation ne garde que la partie entière du nombre."
      ]
    },
    {
      "cell_type": "markdown",
      "metadata": {
        "id": "YmPGqs_FcmZh"
      },
      "source": [
        "Trouvez le moyen d'arrondir la variable `temperature`."
      ]
    },
    {
      "cell_type": "code",
      "execution_count": null,
      "metadata": {
        "id": "UUInqFe9cbMJ",
        "outputId": "43a0a952-fd3a-4dac-f251-599a4f9a7af3"
      },
      "outputs": [
        {
          "data": {
            "text/plain": [
              "5"
            ]
          },
          "execution_count": 5,
          "metadata": {},
          "output_type": "execute_result"
        }
      ],
      "source": [
        "temperature = 5.3\n",
        "temperature = int(temperature)\n",
        "temperature"
      ]
    },
    {
      "cell_type": "markdown",
      "metadata": {
        "id": "OGJ4a9Abc7Jj"
      },
      "source": [
        "Après avoir arrondi la variable `temperature`, est-ce que c'est toujours un `float` ?"
      ]
    },
    {
      "cell_type": "markdown",
      "metadata": {
        "id": "BqPvwkMAIAY2"
      },
      "source": [
        "Réponse:\n",
        "Nope"
      ]
    },
    {
      "cell_type": "markdown",
      "metadata": {
        "id": "deL_WAeRdN8Y"
      },
      "source": [
        "Ci-dessous, est-ce que height est un `int` ?"
      ]
    },
    {
      "cell_type": "code",
      "execution_count": null,
      "metadata": {
        "id": "BZqcem6pcvWh"
      },
      "outputs": [],
      "source": [
        "height = 6.0"
      ]
    },
    {
      "cell_type": "markdown",
      "metadata": {
        "id": "FICR4jQeIAY2"
      },
      "source": [
        "Réponse:\n",
        "Nope"
      ]
    },
    {
      "cell_type": "markdown",
      "metadata": {
        "id": "A7z_NRWTIAY2"
      },
      "source": [
        "# 2. Les entrées/sorties"
      ]
    },
    {
      "cell_type": "markdown",
      "metadata": {
        "id": "h0dM-1kLIAY2"
      },
      "source": [
        "Affichez le message suivant : \"Hello world\"."
      ]
    },
    {
      "cell_type": "code",
      "execution_count": null,
      "metadata": {
        "id": "uNxFiJWiIAY3",
        "outputId": "8cc18030-9124-4eb0-f74d-bf29bf606956"
      },
      "outputs": [
        {
          "name": "stdout",
          "output_type": "stream",
          "text": [
            "Hello world\n"
          ]
        }
      ],
      "source": [
        "print(\"Hello world\")"
      ]
    },
    {
      "cell_type": "markdown",
      "metadata": {
        "id": "qxKcou3_IAY3"
      },
      "source": [
        "Demandez à l'utilisateur s'il fait beau aujourd'hui."
      ]
    },
    {
      "cell_type": "code",
      "execution_count": null,
      "metadata": {
        "id": "zASgTrlrIAY3",
        "outputId": "0bd14834-a93d-4912-d4f3-79db9f740337"
      },
      "outputs": [
        {
          "data": {
            "text/plain": [
              "'Nope'"
            ]
          },
          "execution_count": 7,
          "metadata": {},
          "output_type": "execute_result"
        }
      ],
      "source": [
        "input(\"Est-ce qu'il fait beau aujourd'hui ?\")"
      ]
    },
    {
      "cell_type": "markdown",
      "metadata": {
        "id": "T-MO8K_AIAY3"
      },
      "source": [
        "# 3. Tout ensemble !"
      ]
    },
    {
      "cell_type": "markdown",
      "metadata": {
        "id": "Y6cJZPoFIAY3"
      },
      "source": [
        "Maintenant tu vas combiner tout ce que tu as appris jusqu'à présent !"
      ]
    },
    {
      "cell_type": "markdown",
      "metadata": {
        "id": "qoocKeMOIAY3"
      },
      "source": [
        "#### 3.1 Première interaction avec l'utilisateur\n",
        "Réalisez les étapes suivantes dans l'ordre :\n",
        " - Demande à l'utilisateur son age et stocke-le dans une variable de type `ìnt`.\n",
        " - Vérifie le type de la variable.\n",
        " - Affiche l'âge de l'utilisateur."
      ]
    },
    {
      "cell_type": "code",
      "execution_count": null,
      "metadata": {
        "id": "c4Oqqam8IAY3",
        "outputId": "13764242-2550-480b-d9ac-3243a5f39d5d"
      },
      "outputs": [
        {
          "name": "stdout",
          "output_type": "stream",
          "text": [
            "<class 'int'>\n",
            "54\n"
          ]
        }
      ],
      "source": [
        "age = int(input(\"Quel age avez-vous cher utilisateur ?\"))\n",
        "print(type(age))\n",
        "print(age)"
      ]
    },
    {
      "cell_type": "markdown",
      "metadata": {
        "id": "n77taqCNIAY3"
      },
      "source": [
        "#### 3.2 Inversion de deux variables\n",
        "\n",
        "Réalisez les étapes suivantes dans l'ordre :\n",
        " - Demande à l'utilisateur de rentrer deux valeurs et stocke-les dans deux variables différentes (par exemple `x` et `y`).\n",
        " - Effectue l'échange des valeurs entre ces deux variables.\n",
        " - Affiche la valeur des deux variables."
      ]
    },
    {
      "cell_type": "code",
      "execution_count": null,
      "metadata": {
        "id": "T-609X1zIAY3",
        "outputId": "b5405ccf-8f37-43d8-bb8d-ce010360f541"
      },
      "outputs": [
        {
          "name": "stdout",
          "output_type": "stream",
          "text": [
            "x est égale à :  7\n",
            "y est égale à :  10\n"
          ]
        }
      ],
      "source": [
        "x = int(input(\"Peux tu me donner un nombre s'il te plait\"))\n",
        "y = int(input(\"Peux tu me donner un nombre s'il te plait\"))\n",
        "\n",
        "temp = x\n",
        "x = y\n",
        "y = temp\n",
        "\n",
        "print(\"x est égale à :\", x)\n",
        "print(\"y est égale à :\", y)\n",
        "\n",
        "# Astuce !\n",
        "# En python (et uniquement en python) il est possible d'utiliser la double affectation\n",
        "# x, y = y, x"
      ]
    }
  ],
  "metadata": {
    "colab": {
      "provenance": [],
      "include_colab_link": true
    },
    "kernelspec": {
      "display_name": "base",
      "language": "python",
      "name": "python3"
    },
    "language_info": {
      "codemirror_mode": {
        "name": "ipython",
        "version": 3
      },
      "file_extension": ".py",
      "mimetype": "text/x-python",
      "name": "python",
      "nbconvert_exporter": "python",
      "pygments_lexer": "ipython3",
      "version": "3.11.5"
    }
  },
  "nbformat": 4,
  "nbformat_minor": 0
}